{
  "nbformat": 4,
  "nbformat_minor": 0,
  "metadata": {
    "colab": {
      "name": "HW2.ipynb",
      "provenance": [],
      "collapsed_sections": [],
      "include_colab_link": true
    },
    "kernelspec": {
      "name": "python3",
      "display_name": "Python 3"
    }
  },
  "cells": [
    {
      "cell_type": "markdown",
      "metadata": {
        "id": "view-in-github",
        "colab_type": "text"
      },
      "source": [
        "<a href=\"https://colab.research.google.com/github/abhinsuresh/MLTSA_ASuresh/blob/master/HW2/HW2.ipynb\" target=\"_parent\"><img src=\"https://colab.research.google.com/assets/colab-badge.svg\" alt=\"Open In Colab\"/></a>"
      ]
    },
    {
      "cell_type": "code",
      "metadata": {
        "id": "RmNCjHLi0g-a",
        "colab_type": "code",
        "colab": {}
      },
      "source": [
        "import pandas as pd\n",
        "import numpy as np\n",
        "import pylab as pl\n",
        "import statsmodels.api as sm\n",
        "from statsmodels.graphics.tsaplots import plot_acf\n",
        "from statsmodels.graphics.tsaplots import plot_pacf"
      ],
      "execution_count": 0,
      "outputs": []
    },
    {
      "cell_type": "code",
      "metadata": {
        "id": "k1V3rVeZ0myV",
        "colab_type": "code",
        "colab": {}
      },
      "source": [
        "pl.style.use(\"https://raw.githubusercontent.com/fedhere/MLTSA_FBianco/master/fbb.mplstyle\")\n"
      ],
      "execution_count": 0,
      "outputs": []
    },
    {
      "cell_type": "code",
      "metadata": {
        "id": "wILO0IOL0-tB",
        "colab_type": "code",
        "colab": {}
      },
      "source": [
        "!pip install kaggle ;"
      ],
      "execution_count": 0,
      "outputs": []
    },
    {
      "cell_type": "markdown",
      "metadata": {
        "id": "zRRD6TqS0ufe",
        "colab_type": "text"
      },
      "source": [
        "#Data insgestion"
      ]
    },
    {
      "cell_type": "code",
      "metadata": {
        "id": "huKbLaV10pDw",
        "colab_type": "code",
        "outputId": "d34c270b-9507-40a4-ffd8-7170fb4d8bdb",
        "colab": {
          "base_uri": "https://localhost:8080/",
          "height": 131
        }
      },
      "source": [
        "from google.colab import drive\n",
        "\n",
        "drive.mount(\"/content/gdrive\")"
      ],
      "execution_count": 4,
      "outputs": [
        {
          "output_type": "stream",
          "text": [
            "Go to this URL in a browser: https://accounts.google.com/o/oauth2/auth?client_id=947318989803-6bn6qk8qdgf4n4g3pfee6491hc0brc4i.apps.googleusercontent.com&redirect_uri=urn%3aietf%3awg%3aoauth%3a2.0%3aoob&response_type=code&scope=email%20https%3a%2f%2fwww.googleapis.com%2fauth%2fdocs.test%20https%3a%2f%2fwww.googleapis.com%2fauth%2fdrive%20https%3a%2f%2fwww.googleapis.com%2fauth%2fdrive.photos.readonly%20https%3a%2f%2fwww.googleapis.com%2fauth%2fpeopleapi.readonly\n",
            "\n",
            "Enter your authorization code:\n",
            "··········\n",
            "Mounted at /content/gdrive\n"
          ],
          "name": "stdout"
        }
      ]
    },
    {
      "cell_type": "code",
      "metadata": {
        "id": "0WNLUxft0szi",
        "colab_type": "code",
        "outputId": "65698ad9-b776-444a-dafd-8862e8abff0b",
        "colab": {
          "base_uri": "https://localhost:8080/",
          "height": 36
        }
      },
      "source": [
        "cd gdrive/My\\ Drive"
      ],
      "execution_count": 5,
      "outputs": [
        {
          "output_type": "stream",
          "text": [
            "/content/gdrive/My Drive\n"
          ],
          "name": "stdout"
        }
      ]
    },
    {
      "cell_type": "code",
      "metadata": {
        "id": "d3iriHoO1Rgf",
        "colab_type": "code",
        "outputId": "7d78bb92-0648-4d75-f93d-9604678b89a1",
        "colab": {
          "base_uri": "https://localhost:8080/",
          "height": 36
        }
      },
      "source": [
        "ls kaggle.json"
      ],
      "execution_count": 6,
      "outputs": [
        {
          "output_type": "stream",
          "text": [
            "kaggle.json\n"
          ],
          "name": "stdout"
        }
      ]
    },
    {
      "cell_type": "code",
      "metadata": {
        "id": "8PYM5EUl1bme",
        "colab_type": "code",
        "colab": {}
      },
      "source": [
        "!chmod 600 kaggle.json"
      ],
      "execution_count": 0,
      "outputs": []
    },
    {
      "cell_type": "code",
      "metadata": {
        "id": "oFKqsUK41i7A",
        "colab_type": "code",
        "colab": {}
      },
      "source": [
        "import json\n",
        "import os\n",
        "envs = json.load(open(\"kaggle.json\", \"r\"))\n",
        "os.environ[\"KAGGLE_USERNAME\"] = envs['username']\n",
        "os.environ[\"KAGGLE_KEY\"] = envs['key']"
      ],
      "execution_count": 0,
      "outputs": []
    },
    {
      "cell_type": "code",
      "metadata": {
        "id": "vxkA3BvB1kz2",
        "colab_type": "code",
        "colab": {}
      },
      "source": [
        "!mkdir stock"
      ],
      "execution_count": 0,
      "outputs": []
    },
    {
      "cell_type": "code",
      "metadata": {
        "id": "X_4yieYj2mFx",
        "colab_type": "code",
        "outputId": "7310ea3d-b2e6-4130-81f4-f7a992cb025c",
        "colab": {
          "base_uri": "https://localhost:8080/",
          "height": 36
        }
      },
      "source": [
        "cd stock"
      ],
      "execution_count": 8,
      "outputs": [
        {
          "output_type": "stream",
          "text": [
            "/content/gdrive/My Drive/stock\n"
          ],
          "name": "stdout"
        }
      ]
    },
    {
      "cell_type": "code",
      "metadata": {
        "id": "pP5wJ1Zo3LSZ",
        "colab_type": "code",
        "colab": {}
      },
      "source": [
        "!mkdir data"
      ],
      "execution_count": 0,
      "outputs": []
    },
    {
      "cell_type": "code",
      "metadata": {
        "id": "aqN1S1Zf4CVk",
        "colab_type": "code",
        "outputId": "7271ece3-9893-486d-d27f-ceded1f78066",
        "colab": {
          "base_uri": "https://localhost:8080/",
          "height": 36
        }
      },
      "source": [
        "cd data"
      ],
      "execution_count": 9,
      "outputs": [
        {
          "output_type": "stream",
          "text": [
            "/content/gdrive/My Drive/stock/data\n"
          ],
          "name": "stdout"
        }
      ]
    },
    {
      "cell_type": "code",
      "metadata": {
        "id": "YXWSDBgD4Jr0",
        "colab_type": "code",
        "outputId": "97b94965-a753-40f4-c5c4-7eae8c69786b",
        "colab": {
          "base_uri": "https://localhost:8080/",
          "height": 69
        }
      },
      "source": [
        "#!kaggle datasets download borismarjanovic/price-volume-data-for-all-us-stocks-etfs"
      ],
      "execution_count": 0,
      "outputs": [
        {
          "output_type": "stream",
          "text": [
            "Downloading price-volume-data-for-all-us-stocks-etfs.zip to /content/gdrive/My Drive/stock/data\n",
            " 99% 488M/492M [00:03<00:00, 142MB/s]\n",
            "100% 492M/492M [00:03<00:00, 134MB/s]\n"
          ],
          "name": "stdout"
        }
      ]
    },
    {
      "cell_type": "code",
      "metadata": {
        "id": "fCJA6T1X4XC0",
        "colab_type": "code",
        "outputId": "398b6376-99cf-4f0d-a3c1-3d2b6eaf284b",
        "colab": {
          "base_uri": "https://localhost:8080/",
          "height": 34
        }
      },
      "source": [
        "ls"
      ],
      "execution_count": 0,
      "outputs": [
        {
          "output_type": "stream",
          "text": [
            "price-volume-data-for-all-us-stocks-etfs.zip\n"
          ],
          "name": "stdout"
        }
      ]
    },
    {
      "cell_type": "code",
      "metadata": {
        "id": "riKdRAn94ZJB",
        "colab_type": "code",
        "colab": {}
      },
      "source": [
        "#!unzip price-volume-data-for-all-us-stocks-etfs.zip"
      ],
      "execution_count": 0,
      "outputs": []
    },
    {
      "cell_type": "code",
      "metadata": {
        "id": "Ukgu4Awg4d1U",
        "colab_type": "code",
        "outputId": "e7014e0c-751b-403e-8432-31308de63c62",
        "colab": {
          "base_uri": "https://localhost:8080/",
          "height": 34
        }
      },
      "source": [
        "ls"
      ],
      "execution_count": 0,
      "outputs": [
        {
          "output_type": "stream",
          "text": [
            "\u001b[0m\u001b[01;34mData\u001b[0m/  \u001b[01;34mETFs\u001b[0m/  price-volume-data-for-all-us-stocks-etfs.zip  \u001b[01;34mStocks\u001b[0m/\n"
          ],
          "name": "stdout"
        }
      ]
    },
    {
      "cell_type": "code",
      "metadata": {
        "id": "VTmU1OMb58Jm",
        "colab_type": "code",
        "outputId": "a80aceb1-0fe2-4e92-9e46-193bb2f069ba",
        "colab": {
          "base_uri": "https://localhost:8080/",
          "height": 36
        }
      },
      "source": [
        "cd Data"
      ],
      "execution_count": 10,
      "outputs": [
        {
          "output_type": "stream",
          "text": [
            "/content/gdrive/My Drive/stock/data/Data\n"
          ],
          "name": "stdout"
        }
      ]
    },
    {
      "cell_type": "code",
      "metadata": {
        "id": "1S6qOYuZ7re2",
        "colab_type": "code",
        "outputId": "7f3bcf2f-3ea9-48f1-cb80-8df1d8195d82",
        "colab": {
          "base_uri": "https://localhost:8080/",
          "height": 34
        }
      },
      "source": [
        "ls"
      ],
      "execution_count": 0,
      "outputs": [
        {
          "output_type": "stream",
          "text": [
            "\u001b[0m\u001b[01;34mETFs\u001b[0m/  \u001b[01;34mStocks\u001b[0m/\n"
          ],
          "name": "stdout"
        }
      ]
    },
    {
      "cell_type": "code",
      "metadata": {
        "id": "UYFFTMZE7sYV",
        "colab_type": "code",
        "outputId": "7cb7b717-f910-40b9-c71f-aa9f46c3f78e",
        "colab": {
          "base_uri": "https://localhost:8080/",
          "height": 36
        }
      },
      "source": [
        "cd Stocks"
      ],
      "execution_count": 11,
      "outputs": [
        {
          "output_type": "stream",
          "text": [
            "/content/gdrive/My Drive/stock/data/Data/Stocks\n"
          ],
          "name": "stdout"
        }
      ]
    },
    {
      "cell_type": "code",
      "metadata": {
        "id": "6X1U_WVU7vqP",
        "colab_type": "code",
        "outputId": "38ac5e6b-7b40-4e90-ad47-8da66c9ff095",
        "colab": {
          "base_uri": "https://localhost:8080/",
          "height": 36
        }
      },
      "source": [
        "import glob\t\n",
        "alltss = []\n",
        "allfiles = np.sort(np.array(glob.glob(\"*.txt\")))[:10]\t\n",
        "\n",
        "tss = pd.read_csv(allfiles[0])[[\"Date\", \"Close\"]].rename({\n",
        "    \"Close\":allfiles[0].replace(\".txt\",\"\")}, axis=1)\n",
        "\n",
        "for f in allfiles[1:]:\n",
        "    #print(f)\n",
        "    name = f.replace(\".txt\",\"\")\n",
        "    \n",
        "    tss = tss.merge(pd.read_csv(f)[[\"Date\", \"Close\"]].rename({\n",
        "        \"Close\":name}, axis=1), on=\"Date\")\n",
        "\n",
        "tss.set_index(\"Date\", inplace=True)\n",
        "print (\"shape of the dataset:\", tss.shape)"
      ],
      "execution_count": 12,
      "outputs": [
        {
          "output_type": "stream",
          "text": [
            "shape of the dataset: (447, 10)\n"
          ],
          "name": "stdout"
        }
      ]
    },
    {
      "cell_type": "code",
      "metadata": {
        "id": "CUuqou67EByj",
        "colab_type": "code",
        "outputId": "8de1dbcb-2f42-4c4c-ae57-1d03aa8dd993",
        "colab": {
          "base_uri": "https://localhost:8080/",
          "height": 455
        }
      },
      "source": [
        "tss"
      ],
      "execution_count": 13,
      "outputs": [
        {
          "output_type": "execute_result",
          "data": {
            "text/html": [
              "<div>\n",
              "<style scoped>\n",
              "    .dataframe tbody tr th:only-of-type {\n",
              "        vertical-align: middle;\n",
              "    }\n",
              "\n",
              "    .dataframe tbody tr th {\n",
              "        vertical-align: top;\n",
              "    }\n",
              "\n",
              "    .dataframe thead th {\n",
              "        text-align: right;\n",
              "    }\n",
              "</style>\n",
              "<table border=\"1\" class=\"dataframe\">\n",
              "  <thead>\n",
              "    <tr style=\"text-align: right;\">\n",
              "      <th></th>\n",
              "      <th>a.us</th>\n",
              "      <th>aa.us</th>\n",
              "      <th>aaap.us</th>\n",
              "      <th>aaba.us</th>\n",
              "      <th>aac.us</th>\n",
              "      <th>aal.us</th>\n",
              "      <th>aamc.us</th>\n",
              "      <th>aame.us</th>\n",
              "      <th>aan.us</th>\n",
              "      <th>aaoi.us</th>\n",
              "    </tr>\n",
              "    <tr>\n",
              "      <th>Date</th>\n",
              "      <th></th>\n",
              "      <th></th>\n",
              "      <th></th>\n",
              "      <th></th>\n",
              "      <th></th>\n",
              "      <th></th>\n",
              "      <th></th>\n",
              "      <th></th>\n",
              "      <th></th>\n",
              "      <th></th>\n",
              "    </tr>\n",
              "  </thead>\n",
              "  <tbody>\n",
              "    <tr>\n",
              "      <th>2015-11-11</th>\n",
              "      <td>36.901</td>\n",
              "      <td>17.779</td>\n",
              "      <td>24.50</td>\n",
              "      <td>33.38</td>\n",
              "      <td>22.56</td>\n",
              "      <td>43.524</td>\n",
              "      <td>20.75</td>\n",
              "      <td>4.7960</td>\n",
              "      <td>24.649</td>\n",
              "      <td>16.76</td>\n",
              "    </tr>\n",
              "    <tr>\n",
              "      <th>2015-11-12</th>\n",
              "      <td>36.734</td>\n",
              "      <td>17.206</td>\n",
              "      <td>25.00</td>\n",
              "      <td>33.23</td>\n",
              "      <td>22.50</td>\n",
              "      <td>43.044</td>\n",
              "      <td>19.17</td>\n",
              "      <td>4.8951</td>\n",
              "      <td>24.182</td>\n",
              "      <td>16.11</td>\n",
              "    </tr>\n",
              "    <tr>\n",
              "      <th>2015-11-13</th>\n",
              "      <td>36.030</td>\n",
              "      <td>17.581</td>\n",
              "      <td>25.26</td>\n",
              "      <td>32.19</td>\n",
              "      <td>22.68</td>\n",
              "      <td>42.603</td>\n",
              "      <td>17.50</td>\n",
              "      <td>4.6672</td>\n",
              "      <td>23.795</td>\n",
              "      <td>16.60</td>\n",
              "    </tr>\n",
              "    <tr>\n",
              "      <th>2015-11-16</th>\n",
              "      <td>36.577</td>\n",
              "      <td>18.242</td>\n",
              "      <td>25.02</td>\n",
              "      <td>32.94</td>\n",
              "      <td>22.58</td>\n",
              "      <td>41.994</td>\n",
              "      <td>15.58</td>\n",
              "      <td>4.8455</td>\n",
              "      <td>23.923</td>\n",
              "      <td>16.93</td>\n",
              "    </tr>\n",
              "    <tr>\n",
              "      <th>2015-11-17</th>\n",
              "      <td>37.607</td>\n",
              "      <td>18.197</td>\n",
              "      <td>24.62</td>\n",
              "      <td>32.86</td>\n",
              "      <td>22.52</td>\n",
              "      <td>41.473</td>\n",
              "      <td>12.59</td>\n",
              "      <td>4.9150</td>\n",
              "      <td>23.418</td>\n",
              "      <td>16.68</td>\n",
              "    </tr>\n",
              "    <tr>\n",
              "      <th>...</th>\n",
              "      <td>...</td>\n",
              "      <td>...</td>\n",
              "      <td>...</td>\n",
              "      <td>...</td>\n",
              "      <td>...</td>\n",
              "      <td>...</td>\n",
              "      <td>...</td>\n",
              "      <td>...</td>\n",
              "      <td>...</td>\n",
              "      <td>...</td>\n",
              "    </tr>\n",
              "    <tr>\n",
              "      <th>2017-11-02</th>\n",
              "      <td>68.130</td>\n",
              "      <td>47.460</td>\n",
              "      <td>81.00</td>\n",
              "      <td>70.51</td>\n",
              "      <td>10.02</td>\n",
              "      <td>47.257</td>\n",
              "      <td>88.00</td>\n",
              "      <td>3.6500</td>\n",
              "      <td>35.800</td>\n",
              "      <td>39.28</td>\n",
              "    </tr>\n",
              "    <tr>\n",
              "      <th>2017-11-03</th>\n",
              "      <td>68.370</td>\n",
              "      <td>47.120</td>\n",
              "      <td>80.99</td>\n",
              "      <td>70.23</td>\n",
              "      <td>10.08</td>\n",
              "      <td>47.346</td>\n",
              "      <td>80.40</td>\n",
              "      <td>3.6000</td>\n",
              "      <td>36.430</td>\n",
              "      <td>37.82</td>\n",
              "    </tr>\n",
              "    <tr>\n",
              "      <th>2017-11-07</th>\n",
              "      <td>68.250</td>\n",
              "      <td>46.970</td>\n",
              "      <td>81.00</td>\n",
              "      <td>72.22</td>\n",
              "      <td>11.07</td>\n",
              "      <td>46.358</td>\n",
              "      <td>81.00</td>\n",
              "      <td>3.4000</td>\n",
              "      <td>34.440</td>\n",
              "      <td>37.89</td>\n",
              "    </tr>\n",
              "    <tr>\n",
              "      <th>2017-11-09</th>\n",
              "      <td>67.470</td>\n",
              "      <td>43.330</td>\n",
              "      <td>81.00</td>\n",
              "      <td>70.19</td>\n",
              "      <td>10.88</td>\n",
              "      <td>45.670</td>\n",
              "      <td>84.05</td>\n",
              "      <td>3.5000</td>\n",
              "      <td>35.620</td>\n",
              "      <td>43.20</td>\n",
              "    </tr>\n",
              "    <tr>\n",
              "      <th>2017-11-10</th>\n",
              "      <td>66.810</td>\n",
              "      <td>43.010</td>\n",
              "      <td>80.98</td>\n",
              "      <td>70.56</td>\n",
              "      <td>11.28</td>\n",
              "      <td>45.820</td>\n",
              "      <td>80.10</td>\n",
              "      <td>3.5000</td>\n",
              "      <td>36.590</td>\n",
              "      <td>45.30</td>\n",
              "    </tr>\n",
              "  </tbody>\n",
              "</table>\n",
              "<p>447 rows × 10 columns</p>\n",
              "</div>"
            ],
            "text/plain": [
              "              a.us   aa.us  aaap.us  aaba.us  ...  aamc.us  aame.us  aan.us  aaoi.us\n",
              "Date                                          ...                                   \n",
              "2015-11-11  36.901  17.779    24.50    33.38  ...    20.75   4.7960  24.649    16.76\n",
              "2015-11-12  36.734  17.206    25.00    33.23  ...    19.17   4.8951  24.182    16.11\n",
              "2015-11-13  36.030  17.581    25.26    32.19  ...    17.50   4.6672  23.795    16.60\n",
              "2015-11-16  36.577  18.242    25.02    32.94  ...    15.58   4.8455  23.923    16.93\n",
              "2015-11-17  37.607  18.197    24.62    32.86  ...    12.59   4.9150  23.418    16.68\n",
              "...            ...     ...      ...      ...  ...      ...      ...     ...      ...\n",
              "2017-11-02  68.130  47.460    81.00    70.51  ...    88.00   3.6500  35.800    39.28\n",
              "2017-11-03  68.370  47.120    80.99    70.23  ...    80.40   3.6000  36.430    37.82\n",
              "2017-11-07  68.250  46.970    81.00    72.22  ...    81.00   3.4000  34.440    37.89\n",
              "2017-11-09  67.470  43.330    81.00    70.19  ...    84.05   3.5000  35.620    43.20\n",
              "2017-11-10  66.810  43.010    80.98    70.56  ...    80.10   3.5000  36.590    45.30\n",
              "\n",
              "[447 rows x 10 columns]"
            ]
          },
          "metadata": {
            "tags": []
          },
          "execution_count": 13
        }
      ]
    },
    {
      "cell_type": "markdown",
      "metadata": {
        "id": "uAzF1qOefK8n",
        "colab_type": "text"
      },
      "source": [
        "#Data visulization\n",
        "\n",
        "> Indented block\n",
        "\n"
      ]
    },
    {
      "cell_type": "code",
      "metadata": {
        "id": "rYgE71Eh8upT",
        "colab_type": "code",
        "colab": {}
      },
      "source": [
        "for stocks in tss.columns:\n",
        "  fig, ax = pl.subplots(figsize = (10, 4))\n",
        "  ax.set_ylabel('USD')\n",
        "  tss.plot(y = stocks, ax = ax, rot = 60)"
      ],
      "execution_count": 0,
      "outputs": []
    },
    {
      "cell_type": "markdown",
      "metadata": {
        "id": "2_ZkNSYBFbL6",
        "colab_type": "text"
      },
      "source": [
        "Caption: Plotting the data showing the trend of stock with respect to date"
      ]
    },
    {
      "cell_type": "markdown",
      "metadata": {
        "id": "3wg0ze8je_zp",
        "colab_type": "text"
      },
      "source": [
        "#Scatter matrix"
      ]
    },
    {
      "cell_type": "code",
      "metadata": {
        "id": "V65ltxLF7wV2",
        "colab_type": "code",
        "colab": {}
      },
      "source": [
        "from pandas.plotting import scatter_matrix\n",
        "#ax, fig = pl.subplots(1, figsize=(20,20))\n",
        "#print(ax, fig)\n",
        "scatter_matrix(tss, color=\"#222222\", figsize=(18,18))\n",
        "pl.savefig(\"dd.png\")"
      ],
      "execution_count": 0,
      "outputs": []
    },
    {
      "cell_type": "markdown",
      "metadata": {
        "id": "ghmp0uWyJ34o",
        "colab_type": "text"
      },
      "source": [
        "Caption: This scattering matrix represents the data\n"
      ]
    },
    {
      "cell_type": "markdown",
      "metadata": {
        "id": "bU1-wb46ex0h",
        "colab_type": "text"
      },
      "source": [
        "# Correlation of data sets in table"
      ]
    },
    {
      "cell_type": "code",
      "metadata": {
        "id": "9hvHOWfPEyAP",
        "colab_type": "code",
        "outputId": "07f8f1b9-64ee-4b43-aa87-b391003103a3",
        "colab": {
          "base_uri": "https://localhost:8080/",
          "height": 363
        }
      },
      "source": [
        "tss.corr()"
      ],
      "execution_count": 16,
      "outputs": [
        {
          "output_type": "execute_result",
          "data": {
            "text/html": [
              "<div>\n",
              "<style scoped>\n",
              "    .dataframe tbody tr th:only-of-type {\n",
              "        vertical-align: middle;\n",
              "    }\n",
              "\n",
              "    .dataframe tbody tr th {\n",
              "        vertical-align: top;\n",
              "    }\n",
              "\n",
              "    .dataframe thead th {\n",
              "        text-align: right;\n",
              "    }\n",
              "</style>\n",
              "<table border=\"1\" class=\"dataframe\">\n",
              "  <thead>\n",
              "    <tr style=\"text-align: right;\">\n",
              "      <th></th>\n",
              "      <th>a.us</th>\n",
              "      <th>aa.us</th>\n",
              "      <th>aaap.us</th>\n",
              "      <th>aaba.us</th>\n",
              "      <th>aac.us</th>\n",
              "      <th>aal.us</th>\n",
              "      <th>aamc.us</th>\n",
              "      <th>aame.us</th>\n",
              "      <th>aan.us</th>\n",
              "      <th>aaoi.us</th>\n",
              "    </tr>\n",
              "  </thead>\n",
              "  <tbody>\n",
              "    <tr>\n",
              "      <th>a.us</th>\n",
              "      <td>1.000000</td>\n",
              "      <td>0.902139</td>\n",
              "      <td>0.800310</td>\n",
              "      <td>0.973457</td>\n",
              "      <td>-0.721867</td>\n",
              "      <td>0.621041</td>\n",
              "      <td>0.897263</td>\n",
              "      <td>-0.699609</td>\n",
              "      <td>0.905395</td>\n",
              "      <td>0.851239</td>\n",
              "    </tr>\n",
              "    <tr>\n",
              "      <th>aa.us</th>\n",
              "      <td>0.902139</td>\n",
              "      <td>1.000000</td>\n",
              "      <td>0.776600</td>\n",
              "      <td>0.904210</td>\n",
              "      <td>-0.791137</td>\n",
              "      <td>0.713229</td>\n",
              "      <td>0.893952</td>\n",
              "      <td>-0.606774</td>\n",
              "      <td>0.873520</td>\n",
              "      <td>0.766459</td>\n",
              "    </tr>\n",
              "    <tr>\n",
              "      <th>aaap.us</th>\n",
              "      <td>0.800310</td>\n",
              "      <td>0.776600</td>\n",
              "      <td>1.000000</td>\n",
              "      <td>0.872134</td>\n",
              "      <td>-0.423021</td>\n",
              "      <td>0.451520</td>\n",
              "      <td>0.621329</td>\n",
              "      <td>-0.573976</td>\n",
              "      <td>0.696179</td>\n",
              "      <td>0.560427</td>\n",
              "    </tr>\n",
              "    <tr>\n",
              "      <th>aaba.us</th>\n",
              "      <td>0.973457</td>\n",
              "      <td>0.904210</td>\n",
              "      <td>0.872134</td>\n",
              "      <td>1.000000</td>\n",
              "      <td>-0.670578</td>\n",
              "      <td>0.612989</td>\n",
              "      <td>0.849972</td>\n",
              "      <td>-0.709023</td>\n",
              "      <td>0.903785</td>\n",
              "      <td>0.809059</td>\n",
              "    </tr>\n",
              "    <tr>\n",
              "      <th>aac.us</th>\n",
              "      <td>-0.721867</td>\n",
              "      <td>-0.791137</td>\n",
              "      <td>-0.423021</td>\n",
              "      <td>-0.670578</td>\n",
              "      <td>1.000000</td>\n",
              "      <td>-0.785248</td>\n",
              "      <td>-0.868936</td>\n",
              "      <td>0.510986</td>\n",
              "      <td>-0.765267</td>\n",
              "      <td>-0.780147</td>\n",
              "    </tr>\n",
              "    <tr>\n",
              "      <th>aal.us</th>\n",
              "      <td>0.621041</td>\n",
              "      <td>0.713229</td>\n",
              "      <td>0.451520</td>\n",
              "      <td>0.612989</td>\n",
              "      <td>-0.785248</td>\n",
              "      <td>1.000000</td>\n",
              "      <td>0.780517</td>\n",
              "      <td>-0.219258</td>\n",
              "      <td>0.756808</td>\n",
              "      <td>0.746505</td>\n",
              "    </tr>\n",
              "    <tr>\n",
              "      <th>aamc.us</th>\n",
              "      <td>0.897263</td>\n",
              "      <td>0.893952</td>\n",
              "      <td>0.621329</td>\n",
              "      <td>0.849972</td>\n",
              "      <td>-0.868936</td>\n",
              "      <td>0.780517</td>\n",
              "      <td>1.000000</td>\n",
              "      <td>-0.544740</td>\n",
              "      <td>0.881631</td>\n",
              "      <td>0.904166</td>\n",
              "    </tr>\n",
              "    <tr>\n",
              "      <th>aame.us</th>\n",
              "      <td>-0.699609</td>\n",
              "      <td>-0.606774</td>\n",
              "      <td>-0.573976</td>\n",
              "      <td>-0.709023</td>\n",
              "      <td>0.510986</td>\n",
              "      <td>-0.219258</td>\n",
              "      <td>-0.544740</td>\n",
              "      <td>1.000000</td>\n",
              "      <td>-0.585002</td>\n",
              "      <td>-0.496371</td>\n",
              "    </tr>\n",
              "    <tr>\n",
              "      <th>aan.us</th>\n",
              "      <td>0.905395</td>\n",
              "      <td>0.873520</td>\n",
              "      <td>0.696179</td>\n",
              "      <td>0.903785</td>\n",
              "      <td>-0.765267</td>\n",
              "      <td>0.756808</td>\n",
              "      <td>0.881631</td>\n",
              "      <td>-0.585002</td>\n",
              "      <td>1.000000</td>\n",
              "      <td>0.860847</td>\n",
              "    </tr>\n",
              "    <tr>\n",
              "      <th>aaoi.us</th>\n",
              "      <td>0.851239</td>\n",
              "      <td>0.766459</td>\n",
              "      <td>0.560427</td>\n",
              "      <td>0.809059</td>\n",
              "      <td>-0.780147</td>\n",
              "      <td>0.746505</td>\n",
              "      <td>0.904166</td>\n",
              "      <td>-0.496371</td>\n",
              "      <td>0.860847</td>\n",
              "      <td>1.000000</td>\n",
              "    </tr>\n",
              "  </tbody>\n",
              "</table>\n",
              "</div>"
            ],
            "text/plain": [
              "             a.us     aa.us   aaap.us  ...   aame.us    aan.us   aaoi.us\n",
              "a.us     1.000000  0.902139  0.800310  ... -0.699609  0.905395  0.851239\n",
              "aa.us    0.902139  1.000000  0.776600  ... -0.606774  0.873520  0.766459\n",
              "aaap.us  0.800310  0.776600  1.000000  ... -0.573976  0.696179  0.560427\n",
              "aaba.us  0.973457  0.904210  0.872134  ... -0.709023  0.903785  0.809059\n",
              "aac.us  -0.721867 -0.791137 -0.423021  ...  0.510986 -0.765267 -0.780147\n",
              "aal.us   0.621041  0.713229  0.451520  ... -0.219258  0.756808  0.746505\n",
              "aamc.us  0.897263  0.893952  0.621329  ... -0.544740  0.881631  0.904166\n",
              "aame.us -0.699609 -0.606774 -0.573976  ...  1.000000 -0.585002 -0.496371\n",
              "aan.us   0.905395  0.873520  0.696179  ... -0.585002  1.000000  0.860847\n",
              "aaoi.us  0.851239  0.766459  0.560427  ... -0.496371  0.860847  1.000000\n",
              "\n",
              "[10 rows x 10 columns]"
            ]
          },
          "metadata": {
            "tags": []
          },
          "execution_count": 16
        }
      ]
    },
    {
      "cell_type": "markdown",
      "metadata": {
        "id": "xhyTinu0cpXj",
        "colab_type": "text"
      },
      "source": [
        "Caption: Describes the correlation of one data set with the other, the diagonal elements are one which is trivial since one data matches exactly with itself. The interesting thing to study here is how much a data/stocks is representative of another data.\n",
        "\n",
        "The data 'aac.us' and 'aame.us' is only representative of each other, since we can see they have negative correlation with all others"
      ]
    },
    {
      "cell_type": "markdown",
      "metadata": {
        "id": "ph92V-3PesNk",
        "colab_type": "text"
      },
      "source": [
        "#Visualizing the correlation"
      ]
    },
    {
      "cell_type": "code",
      "metadata": {
        "id": "OwFqlmcsE2y9",
        "colab_type": "code",
        "outputId": "0511bc9a-1aae-4cb5-d209-02afbba5c55e",
        "colab": {
          "base_uri": "https://localhost:8080/",
          "height": 491
        }
      },
      "source": [
        "pl.imshow(tss.corr())\n",
        "pl.colorbar()\n",
        "pl.title(\"correlation\")\n",
        "pl.xticks(range(len(tss.columns)), tss.columns, rotation=90)\n",
        "pl.yticks(range(len(tss.columns)), tss.columns);\n"
      ],
      "execution_count": 17,
      "outputs": [
        {
          "output_type": "stream",
          "text": [
            "findfont: Font family ['[\"sans-serif\"]'] not found. Falling back to DejaVu Sans.\n"
          ],
          "name": "stderr"
        },
        {
          "output_type": "display_data",
          "data": {
            "image/png": "[encoded data removed]",
            "text/plain": [
              "<Figure size 720x432 with 2 Axes>"
            ]
          },
          "metadata": {
            "tags": []
          }
        }
      ]
    },
    {
      "cell_type": "markdown",
      "metadata": {
        "id": "9-CNV8_ed7le",
        "colab_type": "text"
      },
      "source": [
        "Caption: This is another easy to read visual representation of the same data printed in the box above which indicates the strength of correlation and anticorrelation of data with each other and itself. Shades of blue represents anticorrelation whereas yellow and greenish shades represents correlated datas."
      ]
    },
    {
      "cell_type": "markdown",
      "metadata": {
        "id": "3i3EWNrZfy6k",
        "colab_type": "text"
      },
      "source": [
        "#Test for stationary data"
      ]
    },
    {
      "cell_type": "code",
      "metadata": {
        "id": "MrdsArJKND2B",
        "colab_type": "code",
        "outputId": "e96e1e10-7520-4e26-a734-06853d367426",
        "colab": {
          "base_uri": "https://localhost:8080/",
          "height": 204
        }
      },
      "source": [
        "threshold = 0.05\n",
        "for c in tss.columns[:10]:\n",
        "    print(c, \"is stationary:\", sm.tsa.stattools.adfuller(tss[c])[1] < threshold)"
      ],
      "execution_count": 18,
      "outputs": [
        {
          "output_type": "stream",
          "text": [
            "a.us is stationary: False\n",
            "aa.us is stationary: False\n",
            "aaap.us is stationary: False\n",
            "aaba.us is stationary: False\n",
            "aac.us is stationary: False\n",
            "aal.us is stationary: False\n",
            "aamc.us is stationary: False\n",
            "aame.us is stationary: True\n",
            "aan.us is stationary: False\n",
            "aaoi.us is stationary: False\n"
          ],
          "name": "stdout"
        }
      ]
    },
    {
      "cell_type": "markdown",
      "metadata": {
        "id": "zP-EAvZUgJG-",
        "colab_type": "text"
      },
      "source": [
        "Caption: the boolean condition shows weather the data set is stationary or not"
      ]
    },
    {
      "cell_type": "markdown",
      "metadata": {
        "id": "WCoB0DT2gWzD",
        "colab_type": "text"
      },
      "source": [
        "#Autocorrelation and Partial Autocorrelation"
      ]
    },
    {
      "cell_type": "code",
      "metadata": {
        "id": "nPxnW8VwOLES",
        "colab_type": "code",
        "colab": {}
      },
      "source": [
        "import matplotlib.gridspec as gridspec\n",
        "threshold = 0.05\n",
        "\n",
        "\n",
        "gs = gridspec.GridSpec(10,3, hspace=0.8, wspace=0.3)\n",
        "\n",
        "fig = pl.figure(figsize=(28,60))\n",
        "\n",
        "for index,stocks in enumerate(tss.columns[:10]):\n",
        "\n",
        "  if (sm.tsa.stattools.adfuller(tss[stocks])[1] < threshold):\n",
        "    color = 'C3'\n",
        "  else:\n",
        "    color = 'C0'\n",
        "  ax = pl.subplot(gs[index,0])\n",
        "  ax.set_xlabel('Date')\n",
        "  ax.set_ylabel('USD')\n",
        "  tss.plot(y = stocks, ax = ax, rot = 60, color=color)\n",
        "  ax = pl.subplot(gs[index,1])\n",
        "  ax.set_xlabel('Lag')\n",
        "  ax.set_ylabel('Correlation')\n",
        "  plot_acf(tss[stocks], color = color, ax = ax, lags = 80);\n",
        "  ax = pl.subplot(gs[index,2])\n",
        "  ax.set_xlabel('Lag')\n",
        "  ax.set_ylabel('Correlation')\n",
        "  plot_pacf(tss[stocks], color = color, ax = ax, lags = 80);  "
      ],
      "execution_count": 0,
      "outputs": []
    },
    {
      "cell_type": "markdown",
      "metadata": {
        "id": "cBDdXg-ShtUA",
        "colab_type": "text"
      },
      "source": [
        "Caption: The autocorrelation represents how much is data correlated to itself. The shaded cone indicates confidence interval which is set to 95% by default. Looking at the autocorrealtion of the first data set 'a.us' we can see that the data is autocorrelated till a lag of around 40.\n",
        "\n",
        "Partial autocorrelation is the autocorrelation at lag with correlations due to shorter time scales being removed. The confidence level of partial autocorrealtion is a small region which helps to indentify smaller correaltion with confidence.\n",
        "\n",
        "For the stationary data alone the autocorrelation seems to be not monotonously decreasing. The partial autocorrelation we can see that most of line lies outside of confidence interval implying very less autocorrelation. Which can also be seen for some other data sets so the idea is not conclusive. Also for stationary 3 is a good guess for p value"
      ]
    },
    {
      "cell_type": "markdown",
      "metadata": {
        "id": "putNU_jbly4H",
        "colab_type": "text"
      },
      "source": [
        "# Fit one of the stationary time series with ARMA"
      ]
    },
    {
      "cell_type": "markdown",
      "metadata": {
        "id": "GTRhz0Qd7IH5",
        "colab_type": "text"
      },
      "source": [
        "#1, 2 and 3"
      ]
    },
    {
      "cell_type": "code",
      "metadata": {
        "id": "jueMJwoo5LJl",
        "colab_type": "code",
        "colab": {
          "base_uri": "https://localhost:8080/",
          "height": 92
        },
        "outputId": "9589cf98-e8cc-4bcf-b080-9e700d19c741"
      },
      "source": [
        "# over the range of (0, 5) we are finding which set of parameters of p and q \n",
        "# gives best fit or least AIC\n",
        "aic = pl.zeros((5,5))\n",
        "import warnings\n",
        "warnings.filterwarnings(\"ignore\")\n",
        "for p in range(5) :\n",
        "  for q in range(5) :\n",
        "    try :\n",
        "      aic[p,q] = sm.tsa.ARMA(tss['aame.us'], (p,q)).fit(disp=False).aic\n",
        "    except :\n",
        "      pass\n",
        "\n",
        "#printing the best fit parameters\n",
        "print(\"best parameters: \\n p = %s \\n q = %s\" %(pl.where(\n",
        "    aic == pl.nanmin(aic))[0][0], np.where(aic == pl.nanmin(aic))[1][0]) )\n",
        "\n",
        "#printing the AIC vlue for the best fit\n",
        "print(sm.tsa.ARMA(tss[['aame.us']], (1,1)).fit().aic)"
      ],
      "execution_count": 56,
      "outputs": [
        {
          "output_type": "stream",
          "text": [
            "best parameters: \n",
            " p = 1 \n",
            " q = 1\n",
            "-594.1149218798437\n"
          ],
          "name": "stdout"
        }
      ]
    },
    {
      "cell_type": "markdown",
      "metadata": {
        "id": "MUCKxtoP75DJ",
        "colab_type": "text"
      },
      "source": [
        "# 3.5"
      ]
    },
    {
      "cell_type": "code",
      "metadata": {
        "id": "JPHZjsHw01rc",
        "colab_type": "code",
        "colab": {
          "base_uri": "https://localhost:8080/",
          "height": 340
        },
        "outputId": "c732310a-d279-401d-f22d-4a2433ec8065"
      },
      "source": [
        "#now based on the previous output we print the fitting summary\n",
        "mod = sm.tsa.ARMA(tss[['aame.us']], (1,1)).fit()\n",
        "mod.summary()"
      ],
      "execution_count": 53,
      "outputs": [
        {
          "output_type": "execute_result",
          "data": {
            "text/html": [
              "<table class=\"simpletable\">\n",
              "<caption>ARMA Model Results</caption>\n",
              "<tr>\n",
              "  <th>Dep. Variable:</th>      <td>aame.us</td>     <th>  No. Observations:  </th>    <td>447</td>  \n",
              "</tr>\n",
              "<tr>\n",
              "  <th>Model:</th>            <td>ARMA(1, 1)</td>    <th>  Log Likelihood     </th>  <td>301.057</td>\n",
              "</tr>\n",
              "<tr>\n",
              "  <th>Method:</th>             <td>css-mle</td>     <th>  S.D. of innovations</th>   <td>0.123</td> \n",
              "</tr>\n",
              "<tr>\n",
              "  <th>Date:</th>          <td>Thu, 27 Feb 2020</td> <th>  AIC                </th> <td>-594.115</td>\n",
              "</tr>\n",
              "<tr>\n",
              "  <th>Time:</th>              <td>04:26:14</td>     <th>  BIC                </th> <td>-577.705</td>\n",
              "</tr>\n",
              "<tr>\n",
              "  <th>Sample:</th>                <td>0</td>        <th>  HQIC               </th> <td>-587.645</td>\n",
              "</tr>\n",
              "<tr>\n",
              "  <th></th>                       <td> </td>        <th>                     </th>     <td> </td>   \n",
              "</tr>\n",
              "</table>\n",
              "<table class=\"simpletable\">\n",
              "<tr>\n",
              "        <td></td>           <th>coef</th>     <th>std err</th>      <th>z</th>      <th>P>|z|</th>  <th>[0.025</th>    <th>0.975]</th>  \n",
              "</tr>\n",
              "<tr>\n",
              "  <th>const</th>         <td>    3.9275</td> <td>    0.204</td> <td>   19.247</td> <td> 0.000</td> <td>    3.528</td> <td>    4.327</td>\n",
              "</tr>\n",
              "<tr>\n",
              "  <th>ar.L1.aame.us</th> <td>    0.9811</td> <td>    0.010</td> <td>  100.057</td> <td> 0.000</td> <td>    0.962</td> <td>    1.000</td>\n",
              "</tr>\n",
              "<tr>\n",
              "  <th>ma.L1.aame.us</th> <td>   -0.2706</td> <td>    0.049</td> <td>   -5.576</td> <td> 0.000</td> <td>   -0.366</td> <td>   -0.175</td>\n",
              "</tr>\n",
              "</table>\n",
              "<table class=\"simpletable\">\n",
              "<caption>Roots</caption>\n",
              "<tr>\n",
              "    <td></td>   <th>            Real</th>  <th>         Imaginary</th> <th>         Modulus</th>  <th>        Frequency</th>\n",
              "</tr>\n",
              "<tr>\n",
              "  <th>AR.1</th> <td>           1.0192</td> <td>          +0.0000j</td> <td>           1.0192</td> <td>           0.0000</td>\n",
              "</tr>\n",
              "<tr>\n",
              "  <th>MA.1</th> <td>           3.6958</td> <td>          +0.0000j</td> <td>           3.6958</td> <td>           0.0000</td>\n",
              "</tr>\n",
              "</table>"
            ],
            "text/plain": [
              "<class 'statsmodels.iolib.summary.Summary'>\n",
              "\"\"\"\n",
              "                              ARMA Model Results                              \n",
              "==============================================================================\n",
              "Dep. Variable:                aame.us   No. Observations:                  447\n",
              "Model:                     ARMA(1, 1)   Log Likelihood                 301.057\n",
              "Method:                       css-mle   S.D. of innovations              0.123\n",
              "Date:                Thu, 27 Feb 2020   AIC                           -594.115\n",
              "Time:                        04:26:14   BIC                           -577.705\n",
              "Sample:                             0   HQIC                          -587.645\n",
              "                                                                              \n",
              "=================================================================================\n",
              "                    coef    std err          z      P>|z|      [0.025      0.975]\n",
              "---------------------------------------------------------------------------------\n",
              "const             3.9275      0.204     19.247      0.000       3.528       4.327\n",
              "ar.L1.aame.us     0.9811      0.010    100.057      0.000       0.962       1.000\n",
              "ma.L1.aame.us    -0.2706      0.049     -5.576      0.000      -0.366      -0.175\n",
              "                                    Roots                                    \n",
              "=============================================================================\n",
              "                  Real          Imaginary           Modulus         Frequency\n",
              "-----------------------------------------------------------------------------\n",
              "AR.1            1.0192           +0.0000j            1.0192            0.0000\n",
              "MA.1            3.6958           +0.0000j            3.6958            0.0000\n",
              "-----------------------------------------------------------------------------\n",
              "\"\"\""
            ]
          },
          "metadata": {
            "tags": []
          },
          "execution_count": 53
        }
      ]
    },
    {
      "cell_type": "markdown",
      "metadata": {
        "id": "FPQC4uRA1GjP",
        "colab_type": "text"
      },
      "source": [
        "The best fit parameters according to the summary above are :\n",
        "* constant $\\mu$ : 3.9275 with uncertainty of 0.204 i.e. std err\n",
        "* Auto Regressive(L1) $a_1$ 0.9811 with uncertainty of 0.010\n",
        "* Moving Average(L1) $\\theta_1$ -0.2706 with uncertainty of 0.049\n",
        "* and the value of AIC is -594.115\n",
        "\n",
        "$y(t) = \\mu + \\epsilon_t + a_1 y(t-1) + \\theta_1 \\epsilon_{t-1}$\n",
        "\n",
        "This value tells us how strongly does the quantity at any time depends on previous time ranging from (t-1) to (t-p), where p is number of time steps, and q is number of past values on which the current value depends on. The constant gives you the average over the whole time series."
      ]
    },
    {
      "cell_type": "markdown",
      "metadata": {
        "id": "mT5xZcll6pP5",
        "colab_type": "text"
      },
      "source": [
        "# Predict the future"
      ]
    },
    {
      "cell_type": "code",
      "metadata": {
        "id": "3K4hfySOQdve",
        "colab_type": "code",
        "colab": {
          "base_uri": "https://localhost:8080/",
          "height": 350
        },
        "outputId": "9a0a3bef-90c9-4ead-e7ad-b2d1c1d8bf5d"
      },
      "source": [
        "ax = tss[['aame.us']].plot(figsize=(15,5))\n",
        "mod.plot_predict(end=500, plot_insample=False, ax=ax);"
      ],
      "execution_count": 54,
      "outputs": [
        {
          "output_type": "display_data",
          "data": {
            "image/png": "[encoded data removed]",
            "text/plain": [
              "<Figure size 1080x360 with 1 Axes>"
            ]
          },
          "metadata": {
            "tags": []
          }
        }
      ]
    },
    {
      "cell_type": "markdown",
      "metadata": {
        "id": "7muD9-5c_kBk",
        "colab_type": "text"
      },
      "source": [
        "Caption: prediction into the future with confidence level of 95%"
      ]
    },
    {
      "cell_type": "markdown",
      "metadata": {
        "id": "AmnzlfAw8DUf",
        "colab_type": "text"
      },
      "source": [
        "# Choosing non-stationary time series"
      ]
    },
    {
      "cell_type": "code",
      "metadata": {
        "id": "Xnq9d3rZ8C9q",
        "colab_type": "code",
        "colab": {
          "base_uri": "https://localhost:8080/",
          "height": 36
        },
        "outputId": "c0e75404-cddb-42d5-e490-4c4971c266c4"
      },
      "source": [
        "tss_new = tss.drop(columns='aame.us')\n",
        "\n",
        "x_index = pl.where( abs(tss_new.corr()) == min( abs(tss_new.corr()).min() ))[0][0]\n",
        "y_index = pl.where( abs(tss_new.corr()) == min( abs(tss_new.corr()).min() ))[0][1]\n",
        "\n",
        "col1 = tss_new.columns[x_index]\n",
        "col2 = tss_new.columns[y_index]\n",
        "print( col1, col2)"
      ],
      "execution_count": 58,
      "outputs": [
        {
          "output_type": "stream",
          "text": [
            "aaap.us aac.us\n"
          ],
          "name": "stdout"
        }
      ]
    },
    {
      "cell_type": "code",
      "metadata": {
        "id": "4K4ltiTq9MUP",
        "colab_type": "code",
        "colab": {}
      },
      "source": [
        "cols = [col1, col2]\n",
        "p = 5\n",
        "q = 5\n",
        "d = 5\n",
        "aic_ns = pl.zeros((2, p, q, d))\n",
        "aic_ns[:] = pl.nan\n",
        "\n",
        "for (index, col) in enumerate(cols) :\n",
        "    for i in range(p) :\n",
        "        for j in range(q) :\n",
        "                for k in range(d) :\n",
        "                    try :\n",
        "                        aic_ns[index, i,j,k] = sm.tsa.ARIMA(tss[[col]], (i,j,k)).fit(disp=False).aic\n",
        "                    except :\n",
        "                      pass\n",
        "                        "
      ],
      "execution_count": 0,
      "outputs": []
    },
    {
      "cell_type": "code",
      "metadata": {
        "id": "dhWpMKjEv2tK",
        "colab_type": "code",
        "colab": {
          "base_uri": "https://localhost:8080/",
          "height": 167
        },
        "outputId": "421501f0-3e33-4c4a-eca1-29c6a52ddba5"
      },
      "source": [
        "p0,q0,d0 = pl.where(aic_ns[0] == pl.nanmin(aic_ns[0]))\n",
        "p1,q1,d1 = pl.where(aic_ns[1] == pl.nanmin(aic_ns[1]))\n",
        "print('For %s, the best parameters are \\n p=%s \\n q=%s \\n d=%s' %(cols[0], p0[0],q0[0],d0[0]))\n",
        "print('For %s, the best parameters are \\n p=%s\\n q=%s \\n d=%s' %(cols[1],p1[0],q1[0],d1[0]))"
      ],
      "execution_count": 72,
      "outputs": [
        {
          "output_type": "stream",
          "text": [
            "For aaap.us, the best parameters are \n",
            " p=2 \n",
            " q=2 \n",
            " d=4\n",
            "For aac.us, the best parameters are \n",
            " p=4\n",
            " q=1 \n",
            " d=3\n"
          ],
          "name": "stdout"
        }
      ]
    },
    {
      "cell_type": "code",
      "metadata": {
        "id": "-eG6RNR2_Jpq",
        "colab_type": "code",
        "colab": {
          "base_uri": "https://localhost:8080/",
          "height": 1000
        },
        "outputId": "4c84b765-6c68-4637-fc98-0ecb85c3ff84"
      },
      "source": [
        "arima_mod_0_c = sm.tsa.ARIMA(tss[[cols[0]]], (p0[0],q0[0],d0[0])).fit(disp=False, trend='c')\n",
        "print(arima_mod_0_c.summary())\n",
        "\n",
        "arima_mod_1_c = sm.tsa.ARIMA(tss[[cols[1]]], (p1[0],q1[0],d1[0])).fit(disp=False, trend='c')\n",
        "print(arima_mod_1_c.summary())"
      ],
      "execution_count": 74,
      "outputs": [
        {
          "output_type": "stream",
          "text": [
            "                             ARIMA Model Results                              \n",
            "==============================================================================\n",
            "Dep. Variable:             D2.aaap.us   No. Observations:                  445\n",
            "Model:                 ARIMA(2, 2, 4)   Log Likelihood                -714.719\n",
            "Method:                       css-mle   S.D. of innovations              1.200\n",
            "Date:                Thu, 27 Feb 2020   AIC                           1445.438\n",
            "Time:                        04:54:51   BIC                           1478.222\n",
            "Sample:                             2   HQIC                          1458.365\n",
            "                                                                              \n",
            "====================================================================================\n",
            "                       coef    std err          z      P>|z|      [0.025      0.975]\n",
            "------------------------------------------------------------------------------------\n",
            "const                0.0014      0.001      0.993      0.321      -0.001       0.004\n",
            "ar.L1.D2.aaap.us    -1.2922      0.059    -21.753      0.000      -1.409      -1.176\n",
            "ar.L2.D2.aaap.us    -0.9578      0.041    -23.422      0.000      -1.038      -0.878\n",
            "ma.L1.D2.aaap.us     0.1834      0.076      2.402      0.017       0.034       0.333\n",
            "ma.L2.D2.aaap.us    -0.4067      0.061     -6.695      0.000      -0.526      -0.288\n",
            "ma.L3.D2.aaap.us    -0.8275      0.062    -13.289      0.000      -0.950      -0.705\n",
            "ma.L4.D2.aaap.us     0.1223      0.058      2.097      0.037       0.008       0.236\n",
            "                                    Roots                                    \n",
            "=============================================================================\n",
            "                  Real          Imaginary           Modulus         Frequency\n",
            "-----------------------------------------------------------------------------\n",
            "AR.1           -0.6746           -0.7675j            1.0218           -0.3648\n",
            "AR.2           -0.6746           +0.7675j            1.0218            0.3648\n",
            "MA.1           -0.7193           -0.7694j            1.0533           -0.3696\n",
            "MA.2           -0.7193           +0.7694j            1.0533            0.3696\n",
            "MA.3            1.0266           -0.0000j            1.0266           -0.0000\n",
            "MA.4            7.1812           -0.0000j            7.1812           -0.0000\n",
            "-----------------------------------------------------------------------------\n",
            "                             ARIMA Model Results                              \n",
            "==============================================================================\n",
            "Dep. Variable:               D.aac.us   No. Observations:                  446\n",
            "Model:                 ARIMA(4, 1, 3)   Log Likelihood                -449.224\n",
            "Method:                       css-mle   S.D. of innovations              0.659\n",
            "Date:                Thu, 27 Feb 2020   AIC                            916.449\n",
            "Time:                        04:54:52   BIC                            953.351\n",
            "Sample:                             1   HQIC                           930.999\n",
            "                                                                              \n",
            "==================================================================================\n",
            "                     coef    std err          z      P>|z|      [0.025      0.975]\n",
            "----------------------------------------------------------------------------------\n",
            "const             -0.0249      0.034     -0.724      0.469      -0.092       0.043\n",
            "ar.L1.D.aac.us    -0.0233      0.112     -0.208      0.835      -0.243       0.196\n",
            "ar.L2.D.aac.us    -0.2200      0.076     -2.878      0.004      -0.370      -0.070\n",
            "ar.L3.D.aac.us    -0.8230      0.091     -9.065      0.000      -1.001      -0.645\n",
            "ar.L4.D.aac.us     0.0798      0.049      1.627      0.104      -0.016       0.176\n",
            "ma.L1.D.aac.us     0.0369      0.103      0.357      0.721      -0.165       0.239\n",
            "ma.L2.D.aac.us     0.2980      0.085      3.492      0.001       0.131       0.465\n",
            "ma.L3.D.aac.us     0.8565      0.103      8.278      0.000       0.654       1.059\n",
            "                                    Roots                                    \n",
            "=============================================================================\n",
            "                  Real          Imaginary           Modulus         Frequency\n",
            "-----------------------------------------------------------------------------\n",
            "AR.1            0.4180           -0.9446j            1.0329           -0.1837\n",
            "AR.2            0.4180           +0.9446j            1.0329            0.1837\n",
            "AR.3           -1.1095           -0.0000j            1.1095           -0.5000\n",
            "AR.4           10.5806           -0.0000j           10.5806           -0.0000\n",
            "MA.1            0.4098           -0.9122j            1.0000           -0.1828\n",
            "MA.2            0.4098           +0.9122j            1.0000            0.1828\n",
            "MA.3           -1.1675           -0.0000j            1.1675           -0.5000\n",
            "-----------------------------------------------------------------------------\n"
          ],
          "name": "stdout"
        }
      ]
    },
    {
      "cell_type": "code",
      "metadata": {
        "id": "brzJbvG9v91P",
        "colab_type": "code",
        "colab": {
          "base_uri": "https://localhost:8080/",
          "height": 821
        },
        "outputId": "f4ad3655-4b3b-4446-c567-757cc9fb5d42"
      },
      "source": [
        "\n",
        "\n",
        "#example of model output\n",
        "arma_mod_11_c = sm.tsa.ARMA(tss[['aame.us']], (1,1)).fit(disp=False, trend='c')\n",
        "arma_mod_11_nc = sm.tsa.ARMA(tss[['aame.us']], (1,1)).fit(disp=False, trend='nc')\n",
        "#print(arma_mod_11.params)\n",
        "#(df_f[col], (3,1), dates=df_f.index ).fit()\n",
        "#mod.plot_predict(dynamic=True, plot_insample=False)\n",
        "print(arma_mod_11_c.summary())\n",
        "print(arma_mod_11_nc.summary())\n",
        "\n"
      ],
      "execution_count": 46,
      "outputs": [
        {
          "output_type": "stream",
          "text": [
            "                              ARMA Model Results                              \n",
            "==============================================================================\n",
            "Dep. Variable:                aame.us   No. Observations:                  447\n",
            "Model:                     ARMA(1, 1)   Log Likelihood                 301.057\n",
            "Method:                       css-mle   S.D. of innovations              0.123\n",
            "Date:                Thu, 27 Feb 2020   AIC                           -594.115\n",
            "Time:                        03:46:14   BIC                           -577.705\n",
            "Sample:                             0   HQIC                          -587.645\n",
            "                                                                              \n",
            "=================================================================================\n",
            "                    coef    std err          z      P>|z|      [0.025      0.975]\n",
            "---------------------------------------------------------------------------------\n",
            "const             3.9275      0.204     19.247      0.000       3.528       4.327\n",
            "ar.L1.aame.us     0.9811      0.010    100.057      0.000       0.962       1.000\n",
            "ma.L1.aame.us    -0.2706      0.049     -5.576      0.000      -0.366      -0.175\n",
            "                                    Roots                                    \n",
            "=============================================================================\n",
            "                  Real          Imaginary           Modulus         Frequency\n",
            "-----------------------------------------------------------------------------\n",
            "AR.1            1.0192           +0.0000j            1.0192            0.0000\n",
            "MA.1            3.6958           +0.0000j            3.6958            0.0000\n",
            "-----------------------------------------------------------------------------\n",
            "                              ARMA Model Results                              \n",
            "==============================================================================\n",
            "Dep. Variable:                aame.us   No. Observations:                  447\n",
            "Model:                     ARMA(1, 1)   Log Likelihood                 297.135\n",
            "Method:                       css-mle   S.D. of innovations              0.123\n",
            "Date:                Thu, 27 Feb 2020   AIC                           -588.270\n",
            "Time:                        03:46:14   BIC                           -575.962\n",
            "Sample:                             0   HQIC                          -583.418\n",
            "                                                                              \n",
            "=================================================================================\n",
            "                    coef    std err          z      P>|z|      [0.025      0.975]\n",
            "---------------------------------------------------------------------------------\n",
            "ar.L1.aame.us     0.9998      0.000   3282.980      0.000       0.999       1.000\n",
            "ma.L1.aame.us    -0.2853      0.047     -6.052      0.000      -0.378      -0.193\n",
            "                                    Roots                                    \n",
            "=============================================================================\n",
            "                  Real          Imaginary           Modulus         Frequency\n",
            "-----------------------------------------------------------------------------\n",
            "AR.1            1.0002           +0.0000j            1.0002            0.0000\n",
            "MA.1            3.5049           +0.0000j            3.5049            0.0000\n",
            "-----------------------------------------------------------------------------\n"
          ],
          "name": "stdout"
        }
      ]
    },
    {
      "cell_type": "code",
      "metadata": {
        "id": "iutwNs1bReQu",
        "colab_type": "code",
        "outputId": "b9ff6f34-786e-4347-c00f-99905438bcbf",
        "colab": {
          "base_uri": "https://localhost:8080/",
          "height": 36
        }
      },
      "source": [
        "\n",
        "aics = pl.zeros((5,5))\n",
        "for p in range(5):\t\n",
        "    for q in range(5):\n",
        "            try:\n",
        "                mod = sm.tsa.ARMA(tss['aame.us'], (p,1,q)).fit()  \n",
        "                aics[p][q] = mod.aic\n",
        "            except:\n",
        "                aics[p][q] = pl.nan\n",
        "p,q = pl.where(aic == pl.nanmin(aic))          \n",
        "\t\n",
        "print(\"best parameters: p: {:d} q: {:d}\".format(p[0],q[0]))"
      ],
      "execution_count": 36,
      "outputs": [
        {
          "output_type": "stream",
          "text": [
            "best parameters: p: 0 q: 0\n"
          ],
          "name": "stdout"
        }
      ]
    },
    {
      "cell_type": "code",
      "metadata": {
        "id": "J6oqZ_rFgzW9",
        "colab_type": "code",
        "outputId": "4e4cea63-04b1-4f89-8833-58fc15a13863",
        "colab": {
          "base_uri": "https://localhost:8080/",
          "height": 350
        }
      },
      "source": [
        "ax = tss[['aame.us']].plot(figsize=(15,5))\n",
        "mod.plot_predict(end=500, plot_insample=False, ax=ax);"
      ],
      "execution_count": 47,
      "outputs": [
        {
          "output_type": "display_data",
          "data": {
            "image/png": "[encoded data removed]",
            "text/plain": [
              "<Figure size 1080x360 with 1 Axes>"
            ]
          },
          "metadata": {
            "tags": []
          }
        }
      ]
    },
    {
      "cell_type": "code",
      "metadata": {
        "id": "8WUBsfJ3qVc4",
        "colab_type": "code",
        "outputId": "0404a4dc-9b98-42f6-89fa-31b8be41dca1",
        "colab": {
          "base_uri": "https://localhost:8080/",
          "height": 34
        }
      },
      "source": [
        "pl.array([0,10,2])"
      ],
      "execution_count": 0,
      "outputs": [
        {
          "output_type": "execute_result",
          "data": {
            "text/plain": [
              "array([ 0, 10,  2])"
            ]
          },
          "metadata": {
            "tags": []
          },
          "execution_count": 153
        }
      ]
    },
    {
      "cell_type": "code",
      "metadata": {
        "id": "1HAR7XFBq2vf",
        "colab_type": "code",
        "colab": {}
      },
      "source": [
        ""
      ],
      "execution_count": 0,
      "outputs": []
    }
  ]
}