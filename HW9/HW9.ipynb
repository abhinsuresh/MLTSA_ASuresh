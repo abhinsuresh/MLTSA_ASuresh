{
  "nbformat": 4,
  "nbformat_minor": 0,
  "metadata": {
    "colab": {
      "name": "HW9.ipynb",
      "provenance": [],
      "collapsed_sections": [],
      "authorship_tag": "ABX9TyN1AojOCPcHy0flYB7LtiqB",
      "include_colab_link": true
    },
    "kernelspec": {
      "name": "python3",
      "display_name": "Python 3"
    },
    "accelerator": "GPU"
  },
  "cells": [
    {
      "cell_type": "markdown",
      "metadata": {
        "id": "view-in-github",
        "colab_type": "text"
      },
      "source": [
        "<a href=\"https://colab.research.google.com/github/abhinsuresh/MLTSA_ASuresh/blob/master/HW9/HW9.ipynb\" target=\"_parent\"><img src=\"https://colab.research.google.com/assets/colab-badge.svg\" alt=\"Open In Colab\"/></a>"
      ]
    },
    {
      "cell_type": "code",
      "metadata": {
        "id": "XkjX0zDVwSrr",
        "colab_type": "code",
        "outputId": "f052e6d2-89fa-4b7c-c0a0-ec81dfee34f6",
        "colab": {
          "base_uri": "https://localhost:8080/",
          "height": 36
        }
      },
      "source": [
        "import pandas as pd\n",
        "import numpy as np\n",
        "import pylab as pl\n",
        "\n",
        "%pylab inline"
      ],
      "execution_count": 3,
      "outputs": [
        {
          "output_type": "stream",
          "text": [
            "Populating the interactive namespace from numpy and matplotlib\n"
          ],
          "name": "stdout"
        }
      ]
    },
    {
      "cell_type": "code",
      "metadata": {
        "id": "b7eAFQwEmTz4",
        "colab_type": "code",
        "colab": {
          "base_uri": "https://localhost:8080/",
          "height": 36
        },
        "outputId": "feb2e730-8586-44cb-f92b-842913e36fe2"
      },
      "source": [
        "from sklearn.gaussian_process import GaussianProcessRegressor\n",
        "from sklearn.gaussian_process.kernels import RBF, ConstantKernel as C\n",
        "from sklearn.model_selection import train_test_split\n",
        "from sklearn import preprocessing\n",
        "\n",
        "import keras\n",
        "from keras import Model\n",
        "from keras.models import Sequential\n",
        "from keras.layers import Dense, Dropout"
      ],
      "execution_count": 4,
      "outputs": [
        {
          "output_type": "stream",
          "text": [
            "Using TensorFlow backend.\n"
          ],
          "name": "stderr"
        }
      ]
    },
    {
      "cell_type": "code",
      "metadata": {
        "id": "m6pfMyTLwWo-",
        "colab_type": "code",
        "colab": {}
      },
      "source": [
        "pl.style.use(\"https://raw.githubusercontent.com/fedhere/MLTSA_FBianco/master/fbb.mplstyle\")\n",
        "mpl.style.use('default')"
      ],
      "execution_count": 0,
      "outputs": []
    },
    {
      "cell_type": "code",
      "metadata": {
        "id": "QqpnORh3xNKk",
        "colab_type": "code",
        "outputId": "048bd38c-6a51-45cc-ab53-f69990ecbb78",
        "colab": {
          "base_uri": "https://localhost:8080/",
          "height": 131
        }
      },
      "source": [
        "from google.colab import drive\n",
        "\n",
        "drive.mount(\"/content/gdrive\")"
      ],
      "execution_count": 6,
      "outputs": [
        {
          "output_type": "stream",
          "text": [
            "Go to this URL in a browser: https://accounts.google.com/o/oauth2/auth?client_id=947318989803-6bn6qk8qdgf4n4g3pfee6491hc0brc4i.apps.googleusercontent.com&redirect_uri=urn%3aietf%3awg%3aoauth%3a2.0%3aoob&response_type=code&scope=email%20https%3a%2f%2fwww.googleapis.com%2fauth%2fdocs.test%20https%3a%2f%2fwww.googleapis.com%2fauth%2fdrive%20https%3a%2f%2fwww.googleapis.com%2fauth%2fdrive.photos.readonly%20https%3a%2f%2fwww.googleapis.com%2fauth%2fpeopleapi.readonly\n",
            "\n",
            "Enter your authorization code:\n",
            "··········\n",
            "Mounted at /content/gdrive\n"
          ],
          "name": "stdout"
        }
      ]
    },
    {
      "cell_type": "code",
      "metadata": {
        "id": "0bNmJI0axSk9",
        "colab_type": "code",
        "outputId": "404cc32b-4c70-4135-fa3d-bed96ee579a1",
        "colab": {
          "base_uri": "https://localhost:8080/",
          "height": 36
        }
      },
      "source": [
        "cd gdrive/My\\ Drive"
      ],
      "execution_count": 7,
      "outputs": [
        {
          "output_type": "stream",
          "text": [
            "/content/gdrive/My Drive\n"
          ],
          "name": "stdout"
        }
      ]
    },
    {
      "cell_type": "code",
      "metadata": {
        "id": "IW4vgNnJgahS",
        "colab_type": "code",
        "colab": {}
      },
      "source": [
        "mkdir PLAsTiCC"
      ],
      "execution_count": 0,
      "outputs": []
    },
    {
      "cell_type": "code",
      "metadata": {
        "id": "Jze7qJtP7AtU",
        "colab_type": "code",
        "outputId": "d833056d-1776-4dce-a087-ab9415da567e",
        "colab": {
          "base_uri": "https://localhost:8080/",
          "height": 36
        }
      },
      "source": [
        "cd PLAsTiCC"
      ],
      "execution_count": 8,
      "outputs": [
        {
          "output_type": "stream",
          "text": [
            "/content/gdrive/My Drive/PLAsTiCC\n"
          ],
          "name": "stdout"
        }
      ]
    },
    {
      "cell_type": "markdown",
      "metadata": {
        "id": "Uf29HRoGYT3r",
        "colab_type": "text"
      },
      "source": [
        "#Data Acquisition"
      ]
    },
    {
      "cell_type": "code",
      "metadata": {
        "id": "oTxOBgGi7F4y",
        "colab_type": "code",
        "colab": {}
      },
      "source": [
        "!wget https://zenodo.org/record/2539456/files/plasticc_train_lightcurves.csv.gz"
      ],
      "execution_count": 0,
      "outputs": []
    },
    {
      "cell_type": "code",
      "metadata": {
        "id": "PxnMV4zR78Mi",
        "colab_type": "code",
        "colab": {}
      },
      "source": [
        "lcvs = pd.read_csv('plasticc_train_lightcurves.csv.gz')"
      ],
      "execution_count": 0,
      "outputs": []
    },
    {
      "cell_type": "code",
      "metadata": {
        "id": "O1i3U4E6mppT",
        "colab_type": "code",
        "colab": {
          "base_uri": "https://localhost:8080/",
          "height": 36
        },
        "outputId": "f00c19dc-cc55-4faa-90e2-9048b0eac2e2"
      },
      "source": [
        "lcvs.shape"
      ],
      "execution_count": 10,
      "outputs": [
        {
          "output_type": "execute_result",
          "data": {
            "text/plain": [
              "(1421705, 6)"
            ]
          },
          "metadata": {
            "tags": []
          },
          "execution_count": 10
        }
      ]
    },
    {
      "cell_type": "code",
      "metadata": {
        "id": "KAwoEfyboM0N",
        "colab_type": "code",
        "colab": {}
      },
      "source": [
        "lcvs = lcvs[:40000]"
      ],
      "execution_count": 0,
      "outputs": []
    },
    {
      "cell_type": "code",
      "metadata": {
        "id": "Rgw_87TVoU0P",
        "colab_type": "code",
        "colab": {
          "base_uri": "https://localhost:8080/",
          "height": 36
        },
        "outputId": "ee63f0ca-fdda-4972-b993-9b861207fe73"
      },
      "source": [
        "lcvs.shape"
      ],
      "execution_count": 85,
      "outputs": [
        {
          "output_type": "execute_result",
          "data": {
            "text/plain": [
              "(40000, 6)"
            ]
          },
          "metadata": {
            "tags": []
          },
          "execution_count": 85
        }
      ]
    },
    {
      "cell_type": "code",
      "metadata": {
        "id": "cJdbs9uR-aq-",
        "colab_type": "code",
        "outputId": "16c3a7ff-2d14-475a-918d-3b49c3fd5612",
        "colab": {
          "base_uri": "https://localhost:8080/",
          "height": 206
        }
      },
      "source": [
        "lcvs.head()"
      ],
      "execution_count": 14,
      "outputs": [
        {
          "output_type": "execute_result",
          "data": {
            "text/html": [
              "<div>\n",
              "<style scoped>\n",
              "    .dataframe tbody tr th:only-of-type {\n",
              "        vertical-align: middle;\n",
              "    }\n",
              "\n",
              "    .dataframe tbody tr th {\n",
              "        vertical-align: top;\n",
              "    }\n",
              "\n",
              "    .dataframe thead th {\n",
              "        text-align: right;\n",
              "    }\n",
              "</style>\n",
              "<table border=\"1\" class=\"dataframe\">\n",
              "  <thead>\n",
              "    <tr style=\"text-align: right;\">\n",
              "      <th></th>\n",
              "      <th>object_id</th>\n",
              "      <th>mjd</th>\n",
              "      <th>passband</th>\n",
              "      <th>flux</th>\n",
              "      <th>flux_err</th>\n",
              "      <th>detected_bool</th>\n",
              "    </tr>\n",
              "  </thead>\n",
              "  <tbody>\n",
              "    <tr>\n",
              "      <th>0</th>\n",
              "      <td>615</td>\n",
              "      <td>59750.4229</td>\n",
              "      <td>2</td>\n",
              "      <td>-544.810303</td>\n",
              "      <td>3.622952</td>\n",
              "      <td>1</td>\n",
              "    </tr>\n",
              "    <tr>\n",
              "      <th>1</th>\n",
              "      <td>615</td>\n",
              "      <td>59750.4306</td>\n",
              "      <td>1</td>\n",
              "      <td>-816.434326</td>\n",
              "      <td>5.553370</td>\n",
              "      <td>1</td>\n",
              "    </tr>\n",
              "    <tr>\n",
              "      <th>2</th>\n",
              "      <td>615</td>\n",
              "      <td>59750.4383</td>\n",
              "      <td>3</td>\n",
              "      <td>-471.385529</td>\n",
              "      <td>3.801213</td>\n",
              "      <td>1</td>\n",
              "    </tr>\n",
              "    <tr>\n",
              "      <th>3</th>\n",
              "      <td>615</td>\n",
              "      <td>59750.4450</td>\n",
              "      <td>4</td>\n",
              "      <td>-388.984985</td>\n",
              "      <td>11.395031</td>\n",
              "      <td>1</td>\n",
              "    </tr>\n",
              "    <tr>\n",
              "      <th>4</th>\n",
              "      <td>615</td>\n",
              "      <td>59752.4070</td>\n",
              "      <td>2</td>\n",
              "      <td>-681.858887</td>\n",
              "      <td>4.041204</td>\n",
              "      <td>1</td>\n",
              "    </tr>\n",
              "  </tbody>\n",
              "</table>\n",
              "</div>"
            ],
            "text/plain": [
              "   object_id         mjd  passband        flux   flux_err  detected_bool\n",
              "0        615  59750.4229         2 -544.810303   3.622952              1\n",
              "1        615  59750.4306         1 -816.434326   5.553370              1\n",
              "2        615  59750.4383         3 -471.385529   3.801213              1\n",
              "3        615  59750.4450         4 -388.984985  11.395031              1\n",
              "4        615  59752.4070         2 -681.858887   4.041204              1"
            ]
          },
          "metadata": {
            "tags": []
          },
          "execution_count": 14
        }
      ]
    },
    {
      "cell_type": "code",
      "metadata": {
        "id": "WMtLZ-Ay_I5l",
        "colab_type": "code",
        "outputId": "b187a667-6898-4baa-f8b5-d6882c9929e7",
        "colab": {
          "base_uri": "https://localhost:8080/",
          "height": 36
        }
      },
      "source": [
        "bands = lcvs[\"passband\"].unique()\n",
        "print(\"Passbands (filter) identifiers:\", bands)"
      ],
      "execution_count": 15,
      "outputs": [
        {
          "output_type": "stream",
          "text": [
            "Passbands (filter) identifiers: [2 1 3 4 5 0]\n"
          ],
          "name": "stdout"
        }
      ]
    },
    {
      "cell_type": "code",
      "metadata": {
        "id": "67VRQsPG_71o",
        "colab_type": "code",
        "outputId": "5277b0c3-ee63-4ce8-deaf-39652ff69214",
        "colab": {
          "base_uri": "https://localhost:8080/",
          "height": 36
        }
      },
      "source": [
        "# limited objects in my dataset\n",
        "objects = lcvs[\"object_id\"].unique()\n",
        "print(\"There are {} astrophysical simulated objects in my dataset\".\\\n",
        "      format(objects.shape[0]))"
      ],
      "execution_count": 16,
      "outputs": [
        {
          "output_type": "stream",
          "text": [
            "There are 121 astrophysical simulated objects in my dataset\n"
          ],
          "name": "stdout"
        }
      ]
    },
    {
      "cell_type": "code",
      "metadata": {
        "id": "Lbhp5kxklhH1",
        "colab_type": "code",
        "colab": {}
      },
      "source": [
        "def gaussian_process(mjd, flux):\n",
        "\n",
        "  #normalizing the data\n",
        "  mjd_norm = (mjd - mjd.mean()) / mjd.std()\n",
        "  flux_norm = (flux - flux.mean()) / flux.std()\n",
        "  #initating the gaussian process\n",
        "  kernel = RBF(10, (1e-2, 1e2))\n",
        "  gpreg = GaussianProcessRegressor(kernel=kernel, n_restarts_optimizer=100, alpha=.3)\n",
        "  gpreg.fit(mjd_norm.reshape(-1, 1), flux_norm)\n",
        "  mjd_std = np.linspace((0 - mjd.mean()) / mjd.std(), (900 - mjd.mean()) / mjd.std())\n",
        "  flux_std, sigma = gpreg.predict(mjd_std.reshape(-1, 1), return_std=True)\n",
        "  return mjd_std, flux_std"
      ],
      "execution_count": 0,
      "outputs": []
    },
    {
      "cell_type": "code",
      "metadata": {
        "id": "kfBcZXyK44gZ",
        "colab_type": "code",
        "colab": {}
      },
      "source": [
        "import warnings\n",
        "\n",
        "warnings.simplefilter(\"ignore\", UserWarning)"
      ],
      "execution_count": 0,
      "outputs": []
    },
    {
      "cell_type": "code",
      "metadata": {
        "id": "clFnyL3v2Xom",
        "colab_type": "code",
        "colab": {
          "base_uri": "https://localhost:8080/",
          "height": 92
        },
        "outputId": "d1123d4a-49e4-4bf2-eabb-338c82029337"
      },
      "source": [
        "# example of gaussian unifrom interavl process\n",
        "mjd = lcvs[lcvs.object_id == 615][lcvs.passband == 0]['mjd'].to_numpy()\n",
        "mjd = mjd - mjd[0]\n",
        "flux = lcvs[lcvs.object_id == 615][lcvs.passband == 0]['flux'].to_numpy()\n",
        "\n",
        "mjd_std, flux_std = gaussian_process(mjd, flux)\n",
        "print(mjd[1] - mjd[0])\n",
        "print(mjd[2] - mjd[1])\n",
        "print(mjd_std[1] - mjd_std[0])\n",
        "print(mjd_std[2] - mjd_std[1])"
      ],
      "execution_count": 19,
      "outputs": [
        {
          "output_type": "stream",
          "text": [
            "0.9515000000028522\n",
            "0.9978999999948428\n",
            "0.06681594074132358\n",
            "0.0668159407413238\n"
          ],
          "name": "stdout"
        }
      ]
    },
    {
      "cell_type": "code",
      "metadata": {
        "id": "6p8av-vp5df1",
        "colab_type": "code",
        "colab": {
          "base_uri": "https://localhost:8080/",
          "height": 36
        },
        "outputId": "162ce441-2d6c-4a0a-98f5-7c63a4d4585a"
      },
      "source": [
        "type(bands)\n",
        "bands = numpy.sort(bands)\n",
        "bands\n",
        "type(lcvs.object_id.unique())"
      ],
      "execution_count": 23,
      "outputs": [
        {
          "output_type": "execute_result",
          "data": {
            "text/plain": [
              "numpy.ndarray"
            ]
          },
          "metadata": {
            "tags": []
          },
          "execution_count": 23
        }
      ]
    },
    {
      "cell_type": "code",
      "metadata": {
        "id": "NeiwAjdc3pK9",
        "colab_type": "code",
        "colab": {}
      },
      "source": [
        "mjd_ls = []\n",
        "flux_ls = []\n",
        "object_ids = []\n",
        "passbands = []\n",
        "\n",
        "for obj in lcvs.object_id.unique():\n",
        "    for band in bands:\n",
        "        mjd = lcvs[lcvs.object_id == obj]\\\n",
        "              [lcvs.passband == band]['mjd'].to_numpy()\n",
        "        mjd = mjd - mjd[0]  \n",
        "        flux = lcvs[lcvs.object_id == obj]\\\n",
        "                   [lcvs.passband == band]['flux'].to_numpy()\n",
        "\n",
        "        mjd_std, flux_std = gaussian_process(mjd, flux)        \n",
        "        mjd_ls.append(mjd_std)\n",
        "        flux_ls.append(flux_std)\n",
        "        object_ids.append(np.ones(len(mjd_std)) * obj)\n",
        "        passbands.append(np.ones(len(mjd_std)) * band)"
      ],
      "execution_count": 0,
      "outputs": []
    },
    {
      "cell_type": "code",
      "metadata": {
        "id": "zRrJD0aqCkFY",
        "colab_type": "code",
        "colab": {
          "base_uri": "https://localhost:8080/",
          "height": 36
        },
        "outputId": "3d002a1b-7215-48b1-dff5-fed734b08b46"
      },
      "source": [
        "100//2"
      ],
      "execution_count": 31,
      "outputs": [
        {
          "output_type": "execute_result",
          "data": {
            "text/plain": [
              "50"
            ]
          },
          "metadata": {
            "tags": []
          },
          "execution_count": 31
        }
      ]
    },
    {
      "cell_type": "code",
      "metadata": {
        "id": "NagDuAFiB51p",
        "colab_type": "code",
        "colab": {}
      },
      "source": [
        "mjd_ar = np.array(mjd_ls)\n",
        "flux_ar = np.array(flux_ls)\n",
        "object_ar = np.array(object_ids)"
      ],
      "execution_count": 0,
      "outputs": []
    },
    {
      "cell_type": "code",
      "metadata": {
        "id": "GWyqFPJ6D2c3",
        "colab_type": "code",
        "colab": {}
      },
      "source": [
        "gpdata = pd.DataFrame(flux_ar, index=object_ar[:, 0])"
      ],
      "execution_count": 0,
      "outputs": []
    },
    {
      "cell_type": "code",
      "metadata": {
        "id": "RedI63BhE6zK",
        "colab_type": "code",
        "colab": {
          "base_uri": "https://localhost:8080/",
          "height": 226
        },
        "outputId": "8fd23e5f-9d90-4d59-e0f6-e8a2054389d6"
      },
      "source": [
        "gpdata.head()"
      ],
      "execution_count": 41,
      "outputs": [
        {
          "output_type": "execute_result",
          "data": {
            "text/html": [
              "<div>\n",
              "<style scoped>\n",
              "    .dataframe tbody tr th:only-of-type {\n",
              "        vertical-align: middle;\n",
              "    }\n",
              "\n",
              "    .dataframe tbody tr th {\n",
              "        vertical-align: top;\n",
              "    }\n",
              "\n",
              "    .dataframe thead th {\n",
              "        text-align: right;\n",
              "    }\n",
              "</style>\n",
              "<table border=\"1\" class=\"dataframe\">\n",
              "  <thead>\n",
              "    <tr style=\"text-align: right;\">\n",
              "      <th></th>\n",
              "      <th>0</th>\n",
              "      <th>1</th>\n",
              "      <th>2</th>\n",
              "      <th>3</th>\n",
              "      <th>4</th>\n",
              "      <th>5</th>\n",
              "      <th>6</th>\n",
              "      <th>7</th>\n",
              "      <th>8</th>\n",
              "      <th>9</th>\n",
              "      <th>10</th>\n",
              "      <th>11</th>\n",
              "      <th>12</th>\n",
              "      <th>13</th>\n",
              "      <th>14</th>\n",
              "      <th>15</th>\n",
              "      <th>16</th>\n",
              "      <th>17</th>\n",
              "      <th>18</th>\n",
              "      <th>19</th>\n",
              "      <th>20</th>\n",
              "      <th>21</th>\n",
              "      <th>22</th>\n",
              "      <th>23</th>\n",
              "      <th>24</th>\n",
              "      <th>25</th>\n",
              "      <th>26</th>\n",
              "      <th>27</th>\n",
              "      <th>28</th>\n",
              "      <th>29</th>\n",
              "      <th>30</th>\n",
              "      <th>31</th>\n",
              "      <th>32</th>\n",
              "      <th>33</th>\n",
              "      <th>34</th>\n",
              "      <th>35</th>\n",
              "      <th>36</th>\n",
              "      <th>37</th>\n",
              "      <th>38</th>\n",
              "      <th>39</th>\n",
              "      <th>40</th>\n",
              "      <th>41</th>\n",
              "      <th>42</th>\n",
              "      <th>43</th>\n",
              "      <th>44</th>\n",
              "      <th>45</th>\n",
              "      <th>46</th>\n",
              "      <th>47</th>\n",
              "      <th>48</th>\n",
              "      <th>49</th>\n",
              "    </tr>\n",
              "  </thead>\n",
              "  <tbody>\n",
              "    <tr>\n",
              "      <th>615.0</th>\n",
              "      <td>0.291382</td>\n",
              "      <td>-0.000005</td>\n",
              "      <td>-0.133199</td>\n",
              "      <td>-1.021835</td>\n",
              "      <td>0.000050</td>\n",
              "      <td>5.462512e-28</td>\n",
              "      <td>2.289755e-70</td>\n",
              "      <td>3.904597e-132</td>\n",
              "      <td>2.720645e-213</td>\n",
              "      <td>7.748889e-314</td>\n",
              "      <td>0.000000e+00</td>\n",
              "      <td>-2.328870e-272</td>\n",
              "      <td>-1.997187e-179</td>\n",
              "      <td>-7.001321e-106</td>\n",
              "      <td>-1.003295e-51</td>\n",
              "      <td>-5.877132e-17</td>\n",
              "      <td>-1.407310e-01</td>\n",
              "      <td>-7.579096e-03</td>\n",
              "      <td>1.761645e-01</td>\n",
              "      <td>-7.045578e-04</td>\n",
              "      <td>-0.002614</td>\n",
              "      <td>-0.370116</td>\n",
              "      <td>0.059255</td>\n",
              "      <td>-0.009065</td>\n",
              "      <td>1.282418</td>\n",
              "      <td>-0.000001</td>\n",
              "      <td>-2.475999e-31</td>\n",
              "      <td>-1.687587e-75</td>\n",
              "      <td>-4.690395e-139</td>\n",
              "      <td>-5.327855e-222</td>\n",
              "      <td>0.000000e+00</td>\n",
              "      <td>0.000000e+00</td>\n",
              "      <td>1.130764e-245</td>\n",
              "      <td>6.780128e-158</td>\n",
              "      <td>1.662108e-89</td>\n",
              "      <td>1.668508e-40</td>\n",
              "      <td>6.974726e-11</td>\n",
              "      <td>1.016742e+00</td>\n",
              "      <td>1.707259e-02</td>\n",
              "      <td>9.719586e-04</td>\n",
              "      <td>0.829648</td>\n",
              "      <td>-0.001603</td>\n",
              "      <td>-0.624788</td>\n",
              "      <td>-0.731079</td>\n",
              "      <td>0.000483</td>\n",
              "      <td>7.085433e-25</td>\n",
              "      <td>7.633282e-65</td>\n",
              "      <td>3.550317e-124</td>\n",
              "      <td>6.782454e-203</td>\n",
              "      <td>5.298788e-301</td>\n",
              "    </tr>\n",
              "    <tr>\n",
              "      <th>615.0</th>\n",
              "      <td>-0.718862</td>\n",
              "      <td>-0.663721</td>\n",
              "      <td>0.065575</td>\n",
              "      <td>0.097258</td>\n",
              "      <td>-0.002082</td>\n",
              "      <td>-8.597749e-01</td>\n",
              "      <td>3.453603e-01</td>\n",
              "      <td>-2.814191e-02</td>\n",
              "      <td>-2.515899e-03</td>\n",
              "      <td>-4.293595e-19</td>\n",
              "      <td>-1.036030e-49</td>\n",
              "      <td>-3.574091e-95</td>\n",
              "      <td>-1.762871e-155</td>\n",
              "      <td>-1.243190e-230</td>\n",
              "      <td>-1.691626e-300</td>\n",
              "      <td>-1.303262e-213</td>\n",
              "      <td>-1.435559e-141</td>\n",
              "      <td>-2.260853e-84</td>\n",
              "      <td>-5.090790e-42</td>\n",
              "      <td>-1.638929e-14</td>\n",
              "      <td>-0.075439</td>\n",
              "      <td>-0.000497</td>\n",
              "      <td>-0.600872</td>\n",
              "      <td>-0.230182</td>\n",
              "      <td>0.283902</td>\n",
              "      <td>-0.511581</td>\n",
              "      <td>9.341887e-01</td>\n",
              "      <td>1.075892e+00</td>\n",
              "      <td>5.238986e-06</td>\n",
              "      <td>4.248947e-26</td>\n",
              "      <td>4.926940e-61</td>\n",
              "      <td>8.168363e-111</td>\n",
              "      <td>1.936220e-175</td>\n",
              "      <td>6.561999e-255</td>\n",
              "      <td>2.359569e-294</td>\n",
              "      <td>1.512147e-208</td>\n",
              "      <td>1.385533e-137</td>\n",
              "      <td>1.815105e-81</td>\n",
              "      <td>3.399713e-40</td>\n",
              "      <td>9.071645e-14</td>\n",
              "      <td>0.003065</td>\n",
              "      <td>0.138575</td>\n",
              "      <td>0.009331</td>\n",
              "      <td>0.810259</td>\n",
              "      <td>-0.033232</td>\n",
              "      <td>-4.136983e-01</td>\n",
              "      <td>2.901391e-01</td>\n",
              "      <td>-3.004456e-01</td>\n",
              "      <td>7.713729e-02</td>\n",
              "      <td>1.296345e-15</td>\n",
              "    </tr>\n",
              "    <tr>\n",
              "      <th>615.0</th>\n",
              "      <td>-0.854611</td>\n",
              "      <td>-0.848461</td>\n",
              "      <td>0.030248</td>\n",
              "      <td>-0.097178</td>\n",
              "      <td>-0.001956</td>\n",
              "      <td>-7.164304e-01</td>\n",
              "      <td>1.098730e-01</td>\n",
              "      <td>-7.848371e-02</td>\n",
              "      <td>-2.901322e-03</td>\n",
              "      <td>-4.914740e-19</td>\n",
              "      <td>-1.185880e-49</td>\n",
              "      <td>-4.091074e-95</td>\n",
              "      <td>-2.017887e-155</td>\n",
              "      <td>-1.423047e-230</td>\n",
              "      <td>-2.063814e-300</td>\n",
              "      <td>-1.589979e-213</td>\n",
              "      <td>-1.751360e-141</td>\n",
              "      <td>-2.758178e-84</td>\n",
              "      <td>-6.210580e-42</td>\n",
              "      <td>-1.999424e-14</td>\n",
              "      <td>-0.092032</td>\n",
              "      <td>-0.000606</td>\n",
              "      <td>-0.267449</td>\n",
              "      <td>-0.196088</td>\n",
              "      <td>0.446397</td>\n",
              "      <td>-0.162797</td>\n",
              "      <td>7.935305e-01</td>\n",
              "      <td>1.000462e+00</td>\n",
              "      <td>4.945422e-06</td>\n",
              "      <td>4.010873e-26</td>\n",
              "      <td>4.650904e-61</td>\n",
              "      <td>7.710790e-111</td>\n",
              "      <td>1.827777e-175</td>\n",
              "      <td>6.194563e-255</td>\n",
              "      <td>-2.312794e-295</td>\n",
              "      <td>-1.481873e-209</td>\n",
              "      <td>-1.357525e-138</td>\n",
              "      <td>-1.778066e-82</td>\n",
              "      <td>-3.330243e-41</td>\n",
              "      <td>-9.254126e-15</td>\n",
              "      <td>-0.036175</td>\n",
              "      <td>0.263286</td>\n",
              "      <td>0.008620</td>\n",
              "      <td>0.657697</td>\n",
              "      <td>-0.027583</td>\n",
              "      <td>-1.168991e-01</td>\n",
              "      <td>1.134104e-01</td>\n",
              "      <td>-2.925788e-01</td>\n",
              "      <td>5.630348e-02</td>\n",
              "      <td>9.244305e-16</td>\n",
              "    </tr>\n",
              "    <tr>\n",
              "      <th>615.0</th>\n",
              "      <td>-0.943144</td>\n",
              "      <td>-0.980328</td>\n",
              "      <td>-0.030701</td>\n",
              "      <td>-0.311575</td>\n",
              "      <td>-0.001747</td>\n",
              "      <td>-3.766878e-01</td>\n",
              "      <td>-1.306783e-01</td>\n",
              "      <td>-1.394527e-01</td>\n",
              "      <td>-3.241874e-03</td>\n",
              "      <td>-5.452521e-19</td>\n",
              "      <td>-1.315349e-49</td>\n",
              "      <td>-4.536819e-95</td>\n",
              "      <td>-2.237295e-155</td>\n",
              "      <td>-1.577453e-230</td>\n",
              "      <td>-2.307658e-300</td>\n",
              "      <td>-1.777879e-213</td>\n",
              "      <td>-1.958368e-141</td>\n",
              "      <td>-3.084236e-84</td>\n",
              "      <td>-6.944840e-42</td>\n",
              "      <td>-2.235827e-14</td>\n",
              "      <td>-0.102914</td>\n",
              "      <td>-0.000677</td>\n",
              "      <td>0.169431</td>\n",
              "      <td>-0.140231</td>\n",
              "      <td>0.602266</td>\n",
              "      <td>0.054909</td>\n",
              "      <td>6.227322e-01</td>\n",
              "      <td>9.071842e-01</td>\n",
              "      <td>4.569794e-06</td>\n",
              "      <td>3.706209e-26</td>\n",
              "      <td>4.297585e-61</td>\n",
              "      <td>7.124926e-111</td>\n",
              "      <td>1.688875e-175</td>\n",
              "      <td>5.723686e-255</td>\n",
              "      <td>-4.484559e-294</td>\n",
              "      <td>-2.873984e-208</td>\n",
              "      <td>-2.633359e-137</td>\n",
              "      <td>-3.449826e-81</td>\n",
              "      <td>-6.461725e-40</td>\n",
              "      <td>-1.733447e-13</td>\n",
              "      <td>-0.095390</td>\n",
              "      <td>0.316130</td>\n",
              "      <td>0.007392</td>\n",
              "      <td>0.481396</td>\n",
              "      <td>-0.016647</td>\n",
              "      <td>3.545735e-01</td>\n",
              "      <td>-1.074196e-01</td>\n",
              "      <td>-3.002762e-01</td>\n",
              "      <td>3.454116e-02</td>\n",
              "      <td>5.438086e-16</td>\n",
              "    </tr>\n",
              "    <tr>\n",
              "      <th>615.0</th>\n",
              "      <td>-0.992021</td>\n",
              "      <td>-1.101487</td>\n",
              "      <td>-0.123549</td>\n",
              "      <td>-0.626345</td>\n",
              "      <td>-0.001095</td>\n",
              "      <td>2.806021e-01</td>\n",
              "      <td>-3.505666e-01</td>\n",
              "      <td>-2.582527e-01</td>\n",
              "      <td>-3.431301e-03</td>\n",
              "      <td>-6.707034e-19</td>\n",
              "      <td>-2.191797e-49</td>\n",
              "      <td>-1.181852e-94</td>\n",
              "      <td>-1.051465e-154</td>\n",
              "      <td>-1.543459e-229</td>\n",
              "      <td>-4.369993e-299</td>\n",
              "      <td>-1.468019e-212</td>\n",
              "      <td>-8.136750e-141</td>\n",
              "      <td>-7.441133e-84</td>\n",
              "      <td>-1.122783e-41</td>\n",
              "      <td>-2.795253e-14</td>\n",
              "      <td>-0.114819</td>\n",
              "      <td>-0.000778</td>\n",
              "      <td>0.649586</td>\n",
              "      <td>0.078494</td>\n",
              "      <td>0.724846</td>\n",
              "      <td>0.282273</td>\n",
              "      <td>2.805324e-01</td>\n",
              "      <td>7.299097e-01</td>\n",
              "      <td>4.211289e-06</td>\n",
              "      <td>4.179275e-26</td>\n",
              "      <td>6.843141e-61</td>\n",
              "      <td>1.848752e-110</td>\n",
              "      <td>8.240822e-175</td>\n",
              "      <td>6.060815e-254</td>\n",
              "      <td>-1.416948e-292</td>\n",
              "      <td>-4.000218e-207</td>\n",
              "      <td>-1.863297e-136</td>\n",
              "      <td>-1.432019e-80</td>\n",
              "      <td>-1.815875e-39</td>\n",
              "      <td>-3.802052e-13</td>\n",
              "      <td>-0.155703</td>\n",
              "      <td>0.345515</td>\n",
              "      <td>0.004975</td>\n",
              "      <td>-0.014090</td>\n",
              "      <td>0.008036</td>\n",
              "      <td>8.853445e-01</td>\n",
              "      <td>-4.588400e-01</td>\n",
              "      <td>-3.178153e-01</td>\n",
              "      <td>2.003118e-02</td>\n",
              "      <td>3.382788e-16</td>\n",
              "    </tr>\n",
              "  </tbody>\n",
              "</table>\n",
              "</div>"
            ],
            "text/plain": [
              "             0         1   ...             48             49\n",
              "615.0  0.291382 -0.000005  ...  6.782454e-203  5.298788e-301\n",
              "615.0 -0.718862 -0.663721  ...   7.713729e-02   1.296345e-15\n",
              "615.0 -0.854611 -0.848461  ...   5.630348e-02   9.244305e-16\n",
              "615.0 -0.943144 -0.980328  ...   3.454116e-02   5.438086e-16\n",
              "615.0 -0.992021 -1.101487  ...   2.003118e-02   3.382788e-16\n",
              "\n",
              "[5 rows x 50 columns]"
            ]
          },
          "metadata": {
            "tags": []
          },
          "execution_count": 41
        }
      ]
    },
    {
      "cell_type": "code",
      "metadata": {
        "id": "tUTjxSyZFElG",
        "colab_type": "code",
        "colab": {}
      },
      "source": [
        "X_train, X_test, y_train, y_test = train_test_split(gpdata, gpdata, test_size=0.2, random_state=32)"
      ],
      "execution_count": 0,
      "outputs": []
    },
    {
      "cell_type": "code",
      "metadata": {
        "id": "aGOAsLg_FGB6",
        "colab_type": "code",
        "colab": {
          "base_uri": "https://localhost:8080/",
          "height": 36
        },
        "outputId": "127e3a3a-cdea-496c-ec78-851e95032bb7"
      },
      "source": [
        "X_train.shape"
      ],
      "execution_count": 43,
      "outputs": [
        {
          "output_type": "execute_result",
          "data": {
            "text/plain": [
              "(580, 50)"
            ]
          },
          "metadata": {
            "tags": []
          },
          "execution_count": 43
        }
      ]
    },
    {
      "cell_type": "code",
      "metadata": {
        "id": "J8tq8wabGoi_",
        "colab_type": "code",
        "colab": {}
      },
      "source": [
        "def create_model(input_dim=50):\n",
        "  model = Sequential()\n",
        "  model.add(Dense(50, activation='relu', input_dim=50))\n",
        "  model.add(Dense(25, activation='relu'))\n",
        "  model.add(Dense(5, activation='relu'))\n",
        "  model.add(Dense(25, activation='relu'))\n",
        "  model.add(Dense(50, activation='relu'))\n",
        "  model.compile(optimizer='adamax', loss='mse', metrics=['mae', 'acc'])\n",
        "  return model\n",
        "model = create_model()"
      ],
      "execution_count": 0,
      "outputs": []
    },
    {
      "cell_type": "code",
      "metadata": {
        "id": "UnopPqUHHNuy",
        "colab_type": "code",
        "colab": {
          "base_uri": "https://localhost:8080/",
          "height": 372
        },
        "outputId": "fdf15a50-3f8d-4b13-819b-1f994ea074ad"
      },
      "source": [
        "print(model.summary())"
      ],
      "execution_count": 47,
      "outputs": [
        {
          "output_type": "stream",
          "text": [
            "Model: \"sequential_1\"\n",
            "_________________________________________________________________\n",
            "Layer (type)                 Output Shape              Param #   \n",
            "=================================================================\n",
            "dense_1 (Dense)              (None, 50)                2550      \n",
            "_________________________________________________________________\n",
            "dense_2 (Dense)              (None, 25)                1275      \n",
            "_________________________________________________________________\n",
            "dense_3 (Dense)              (None, 5)                 130       \n",
            "_________________________________________________________________\n",
            "dense_4 (Dense)              (None, 25)                150       \n",
            "_________________________________________________________________\n",
            "dense_5 (Dense)              (None, 50)                1300      \n",
            "=================================================================\n",
            "Total params: 5,405\n",
            "Trainable params: 5,405\n",
            "Non-trainable params: 0\n",
            "_________________________________________________________________\n",
            "None\n"
          ],
          "name": "stdout"
        }
      ]
    },
    {
      "cell_type": "markdown",
      "metadata": {
        "id": "2gfjudqaYmnU",
        "colab_type": "text"
      },
      "source": [
        "### This model is choosen with 50 layers downsized to 5 layers in steps of two "
      ]
    },
    {
      "cell_type": "code",
      "metadata": {
        "id": "yIxdWln3HdRC",
        "colab_type": "code",
        "colab": {}
      },
      "source": [
        "history = model.fit(X_train.values, y_train.values, epochs=10000, batch_size=32, verbose=1)\n",
        "model.save(\"hw9model10000.h5\")"
      ],
      "execution_count": 0,
      "outputs": []
    },
    {
      "cell_type": "code",
      "metadata": {
        "id": "EMip84gaaVYV",
        "colab_type": "code",
        "colab": {}
      },
      "source": [
        "model = keras.models.load_model('hw9model10000.h5')"
      ],
      "execution_count": 0,
      "outputs": []
    },
    {
      "cell_type": "code",
      "metadata": {
        "id": "UfvZCbgePFBY",
        "colab_type": "code",
        "colab": {
          "base_uri": "https://localhost:8080/",
          "height": 464
        },
        "outputId": "3011a3ab-1d46-4d8c-b49a-a1d0324caf6a"
      },
      "source": [
        "plt.plot(np.array(history.history['loss']))\n",
        "plt.yscale('log')\n",
        "plt.xscale('log')\n",
        "plt.xlabel('Number of Epochs', fontsize='xx-large')\n",
        "plt.ylabel('Loss', fontsize='xx-large');"
      ],
      "execution_count": 49,
      "outputs": [
        {
          "output_type": "display_data",
          "data": {
            "image/png": "[encoded data removed]",
            "text/plain": [
              "<Figure size 640x480 with 1 Axes>"
            ]
          },
          "metadata": {
            "tags": []
          }
        }
      ]
    },
    {
      "cell_type": "markdown",
      "metadata": {
        "id": "kgV6Q1kSgTTW",
        "colab_type": "text"
      },
      "source": [
        "## Here I can see my loss is saturating to a low value, it can be considered as good number of epochs for fitting and is not going to overfitting"
      ]
    },
    {
      "cell_type": "code",
      "metadata": {
        "id": "lDA_vZz3RlI0",
        "colab_type": "code",
        "colab": {}
      },
      "source": [
        "y_pred = model.predict(X_test)"
      ],
      "execution_count": 0,
      "outputs": []
    },
    {
      "cell_type": "code",
      "metadata": {
        "id": "RA7EUtZwRxG3",
        "colab_type": "code",
        "colab": {
          "base_uri": "https://localhost:8080/",
          "height": 36
        },
        "outputId": "3a6b8659-7393-452f-bd95-7a8eab261702"
      },
      "source": [
        "# Create encoder to extract the bottleneck features from the model\n",
        "encoderforbot = Model(model.input, model.layers[-3].output)\n",
        "encoderforbot_predict = encoderforbot.predict(flux_ar)\n",
        "encoderforbot_predict.shape"
      ],
      "execution_count": 54,
      "outputs": [
        {
          "output_type": "execute_result",
          "data": {
            "text/plain": [
              "(726, 5)"
            ]
          },
          "metadata": {
            "tags": []
          },
          "execution_count": 54
        }
      ]
    },
    {
      "cell_type": "code",
      "metadata": {
        "id": "HdtJgdHpSN0S",
        "colab_type": "code",
        "colab": {
          "base_uri": "https://localhost:8080/",
          "height": 206
        },
        "outputId": "39e4d7c9-e726-445d-cc95-4fd4933474a1"
      },
      "source": [
        "encoder_features = pd.DataFrame(encoderforbot_predict, columns=['enc{0}'.format(i) for i in range(encoderforbot_predict.shape[1])])\n",
        "encoder_features.head()"
      ],
      "execution_count": 55,
      "outputs": [
        {
          "output_type": "execute_result",
          "data": {
            "text/html": [
              "<div>\n",
              "<style scoped>\n",
              "    .dataframe tbody tr th:only-of-type {\n",
              "        vertical-align: middle;\n",
              "    }\n",
              "\n",
              "    .dataframe tbody tr th {\n",
              "        vertical-align: top;\n",
              "    }\n",
              "\n",
              "    .dataframe thead th {\n",
              "        text-align: right;\n",
              "    }\n",
              "</style>\n",
              "<table border=\"1\" class=\"dataframe\">\n",
              "  <thead>\n",
              "    <tr style=\"text-align: right;\">\n",
              "      <th></th>\n",
              "      <th>enc0</th>\n",
              "      <th>enc1</th>\n",
              "      <th>enc2</th>\n",
              "      <th>enc3</th>\n",
              "      <th>enc4</th>\n",
              "    </tr>\n",
              "  </thead>\n",
              "  <tbody>\n",
              "    <tr>\n",
              "      <th>0</th>\n",
              "      <td>3.551936</td>\n",
              "      <td>3.584672</td>\n",
              "      <td>4.268472</td>\n",
              "      <td>5.197043</td>\n",
              "      <td>1.539078</td>\n",
              "    </tr>\n",
              "    <tr>\n",
              "      <th>1</th>\n",
              "      <td>2.555055</td>\n",
              "      <td>2.550650</td>\n",
              "      <td>0.000000</td>\n",
              "      <td>0.751464</td>\n",
              "      <td>2.033255</td>\n",
              "    </tr>\n",
              "    <tr>\n",
              "      <th>2</th>\n",
              "      <td>3.120932</td>\n",
              "      <td>2.775256</td>\n",
              "      <td>1.262978</td>\n",
              "      <td>1.449848</td>\n",
              "      <td>1.875989</td>\n",
              "    </tr>\n",
              "    <tr>\n",
              "      <th>3</th>\n",
              "      <td>4.157471</td>\n",
              "      <td>3.477322</td>\n",
              "      <td>2.161210</td>\n",
              "      <td>2.584683</td>\n",
              "      <td>2.346682</td>\n",
              "    </tr>\n",
              "    <tr>\n",
              "      <th>4</th>\n",
              "      <td>6.120227</td>\n",
              "      <td>5.077867</td>\n",
              "      <td>3.338950</td>\n",
              "      <td>4.231472</td>\n",
              "      <td>3.542426</td>\n",
              "    </tr>\n",
              "  </tbody>\n",
              "</table>\n",
              "</div>"
            ],
            "text/plain": [
              "       enc0      enc1      enc2      enc3      enc4\n",
              "0  3.551936  3.584672  4.268472  5.197043  1.539078\n",
              "1  2.555055  2.550650  0.000000  0.751464  2.033255\n",
              "2  3.120932  2.775256  1.262978  1.449848  1.875989\n",
              "3  4.157471  3.477322  2.161210  2.584683  2.346682\n",
              "4  6.120227  5.077867  3.338950  4.231472  3.542426"
            ]
          },
          "metadata": {
            "tags": []
          },
          "execution_count": 55
        }
      ]
    },
    {
      "cell_type": "code",
      "metadata": {
        "id": "Jf87arWMABpP",
        "colab_type": "code",
        "colab": {}
      },
      "source": [
        "!wget https://zenodo.org/record/2539456/files/plasticc_train_metadata.csv.gz"
      ],
      "execution_count": 0,
      "outputs": []
    },
    {
      "cell_type": "code",
      "metadata": {
        "id": "TIrJq7WaBAD3",
        "colab_type": "code",
        "outputId": "1de07a69-0aa3-420c-d85f-a84279c2a540",
        "colab": {
          "base_uri": "https://localhost:8080/",
          "height": 226
        }
      },
      "source": [
        "metadata = pd.read_csv(\"plasticc_train_metadata.csv.gz\")\n",
        "metadata.head()"
      ],
      "execution_count": 88,
      "outputs": [
        {
          "output_type": "execute_result",
          "data": {
            "text/html": [
              "<div>\n",
              "<style scoped>\n",
              "    .dataframe tbody tr th:only-of-type {\n",
              "        vertical-align: middle;\n",
              "    }\n",
              "\n",
              "    .dataframe tbody tr th {\n",
              "        vertical-align: top;\n",
              "    }\n",
              "\n",
              "    .dataframe thead th {\n",
              "        text-align: right;\n",
              "    }\n",
              "</style>\n",
              "<table border=\"1\" class=\"dataframe\">\n",
              "  <thead>\n",
              "    <tr style=\"text-align: right;\">\n",
              "      <th></th>\n",
              "      <th>object_id</th>\n",
              "      <th>ra</th>\n",
              "      <th>decl</th>\n",
              "      <th>ddf_bool</th>\n",
              "      <th>hostgal_specz</th>\n",
              "      <th>hostgal_photoz</th>\n",
              "      <th>hostgal_photoz_err</th>\n",
              "      <th>distmod</th>\n",
              "      <th>mwebv</th>\n",
              "      <th>target</th>\n",
              "      <th>true_target</th>\n",
              "      <th>true_submodel</th>\n",
              "      <th>true_z</th>\n",
              "      <th>true_distmod</th>\n",
              "      <th>true_lensdmu</th>\n",
              "      <th>true_vpec</th>\n",
              "      <th>true_rv</th>\n",
              "      <th>true_av</th>\n",
              "      <th>true_peakmjd</th>\n",
              "      <th>libid_cadence</th>\n",
              "      <th>tflux_u</th>\n",
              "      <th>tflux_g</th>\n",
              "      <th>tflux_r</th>\n",
              "      <th>tflux_i</th>\n",
              "      <th>tflux_z</th>\n",
              "      <th>tflux_y</th>\n",
              "    </tr>\n",
              "  </thead>\n",
              "  <tbody>\n",
              "    <tr>\n",
              "      <th>0</th>\n",
              "      <td>615</td>\n",
              "      <td>349.0461</td>\n",
              "      <td>-61.9438</td>\n",
              "      <td>1</td>\n",
              "      <td>0.000</td>\n",
              "      <td>0.000</td>\n",
              "      <td>0.000</td>\n",
              "      <td>-9.000</td>\n",
              "      <td>0.017</td>\n",
              "      <td>92</td>\n",
              "      <td>92</td>\n",
              "      <td>1</td>\n",
              "      <td>0.000</td>\n",
              "      <td>0.000</td>\n",
              "      <td>0.000</td>\n",
              "      <td>0.0</td>\n",
              "      <td>0.0</td>\n",
              "      <td>0.0</td>\n",
              "      <td>59570.000</td>\n",
              "      <td>69</td>\n",
              "      <td>484.7</td>\n",
              "      <td>3286.7</td>\n",
              "      <td>3214.1</td>\n",
              "      <td>3039.7</td>\n",
              "      <td>2854.5</td>\n",
              "      <td>2837.0</td>\n",
              "    </tr>\n",
              "    <tr>\n",
              "      <th>1</th>\n",
              "      <td>713</td>\n",
              "      <td>53.0859</td>\n",
              "      <td>-27.7844</td>\n",
              "      <td>1</td>\n",
              "      <td>1.818</td>\n",
              "      <td>1.627</td>\n",
              "      <td>0.255</td>\n",
              "      <td>45.406</td>\n",
              "      <td>0.007</td>\n",
              "      <td>88</td>\n",
              "      <td>88</td>\n",
              "      <td>1</td>\n",
              "      <td>1.817</td>\n",
              "      <td>45.703</td>\n",
              "      <td>0.000</td>\n",
              "      <td>0.0</td>\n",
              "      <td>0.0</td>\n",
              "      <td>0.0</td>\n",
              "      <td>59570.000</td>\n",
              "      <td>34</td>\n",
              "      <td>108.7</td>\n",
              "      <td>117.7</td>\n",
              "      <td>119.9</td>\n",
              "      <td>149.6</td>\n",
              "      <td>147.9</td>\n",
              "      <td>150.5</td>\n",
              "    </tr>\n",
              "    <tr>\n",
              "      <th>2</th>\n",
              "      <td>730</td>\n",
              "      <td>33.5742</td>\n",
              "      <td>-6.5796</td>\n",
              "      <td>1</td>\n",
              "      <td>0.232</td>\n",
              "      <td>0.226</td>\n",
              "      <td>0.016</td>\n",
              "      <td>40.256</td>\n",
              "      <td>0.021</td>\n",
              "      <td>42</td>\n",
              "      <td>42</td>\n",
              "      <td>2</td>\n",
              "      <td>0.233</td>\n",
              "      <td>40.328</td>\n",
              "      <td>0.004</td>\n",
              "      <td>4.5</td>\n",
              "      <td>0.0</td>\n",
              "      <td>0.0</td>\n",
              "      <td>60444.379</td>\n",
              "      <td>9</td>\n",
              "      <td>0.0</td>\n",
              "      <td>0.0</td>\n",
              "      <td>0.0</td>\n",
              "      <td>0.0</td>\n",
              "      <td>0.0</td>\n",
              "      <td>0.0</td>\n",
              "    </tr>\n",
              "    <tr>\n",
              "      <th>3</th>\n",
              "      <td>745</td>\n",
              "      <td>0.1899</td>\n",
              "      <td>-45.5867</td>\n",
              "      <td>1</td>\n",
              "      <td>0.304</td>\n",
              "      <td>0.281</td>\n",
              "      <td>1.152</td>\n",
              "      <td>40.795</td>\n",
              "      <td>0.007</td>\n",
              "      <td>90</td>\n",
              "      <td>90</td>\n",
              "      <td>1</td>\n",
              "      <td>0.301</td>\n",
              "      <td>40.969</td>\n",
              "      <td>-0.004</td>\n",
              "      <td>257.7</td>\n",
              "      <td>0.0</td>\n",
              "      <td>0.0</td>\n",
              "      <td>60130.453</td>\n",
              "      <td>38</td>\n",
              "      <td>0.0</td>\n",
              "      <td>0.0</td>\n",
              "      <td>0.0</td>\n",
              "      <td>0.0</td>\n",
              "      <td>0.0</td>\n",
              "      <td>0.0</td>\n",
              "    </tr>\n",
              "    <tr>\n",
              "      <th>4</th>\n",
              "      <td>1124</td>\n",
              "      <td>352.7113</td>\n",
              "      <td>-63.8237</td>\n",
              "      <td>1</td>\n",
              "      <td>0.193</td>\n",
              "      <td>0.241</td>\n",
              "      <td>0.018</td>\n",
              "      <td>40.417</td>\n",
              "      <td>0.024</td>\n",
              "      <td>90</td>\n",
              "      <td>90</td>\n",
              "      <td>1</td>\n",
              "      <td>0.193</td>\n",
              "      <td>39.866</td>\n",
              "      <td>-0.002</td>\n",
              "      <td>-368.8</td>\n",
              "      <td>0.0</td>\n",
              "      <td>0.0</td>\n",
              "      <td>60452.641</td>\n",
              "      <td>1</td>\n",
              "      <td>0.0</td>\n",
              "      <td>0.0</td>\n",
              "      <td>0.0</td>\n",
              "      <td>0.0</td>\n",
              "      <td>0.0</td>\n",
              "      <td>0.0</td>\n",
              "    </tr>\n",
              "  </tbody>\n",
              "</table>\n",
              "</div>"
            ],
            "text/plain": [
              "   object_id        ra     decl  ddf_bool  ...  tflux_r  tflux_i  tflux_z  tflux_y\n",
              "0        615  349.0461 -61.9438         1  ...   3214.1   3039.7   2854.5   2837.0\n",
              "1        713   53.0859 -27.7844         1  ...    119.9    149.6    147.9    150.5\n",
              "2        730   33.5742  -6.5796         1  ...      0.0      0.0      0.0      0.0\n",
              "3        745    0.1899 -45.5867         1  ...      0.0      0.0      0.0      0.0\n",
              "4       1124  352.7113 -63.8237         1  ...      0.0      0.0      0.0      0.0\n",
              "\n",
              "[5 rows x 26 columns]"
            ]
          },
          "metadata": {
            "tags": []
          },
          "execution_count": 88
        }
      ]
    },
    {
      "cell_type": "code",
      "metadata": {
        "id": "qFvoBgfSBCCX",
        "colab_type": "code",
        "outputId": "9aff8387-c367-44b0-9816-45589fadd62a",
        "colab": {
          "base_uri": "https://localhost:8080/",
          "height": 148
        }
      },
      "source": [
        "metadata.columns"
      ],
      "execution_count": 57,
      "outputs": [
        {
          "output_type": "execute_result",
          "data": {
            "text/plain": [
              "Index(['object_id', 'ra', 'decl', 'ddf_bool', 'hostgal_specz',\n",
              "       'hostgal_photoz', 'hostgal_photoz_err', 'distmod', 'mwebv', 'target',\n",
              "       'true_target', 'true_submodel', 'true_z', 'true_distmod',\n",
              "       'true_lensdmu', 'true_vpec', 'true_rv', 'true_av', 'true_peakmjd',\n",
              "       'libid_cadence', 'tflux_u', 'tflux_g', 'tflux_r', 'tflux_i', 'tflux_z',\n",
              "       'tflux_y'],\n",
              "      dtype='object')"
            ]
          },
          "metadata": {
            "tags": []
          },
          "execution_count": 57
        }
      ]
    },
    {
      "cell_type": "code",
      "metadata": {
        "id": "DOyJvDjXBusx",
        "colab_type": "code",
        "outputId": "fc3a1016-5ce3-40c3-c9ad-2f7cadae6ffc",
        "colab": {
          "base_uri": "https://localhost:8080/",
          "height": 36
        }
      },
      "source": [
        "print(\"The metadata dataset contains more information for each time series: \\\n",
        "      (time-series, columns)\",\n",
        "      metadata.shape)"
      ],
      "execution_count": 89,
      "outputs": [
        {
          "output_type": "stream",
          "text": [
            "The metadata dataset contains more information for each time series:       (time-series, columns) (7848, 26)\n"
          ],
          "name": "stdout"
        }
      ]
    },
    {
      "cell_type": "code",
      "metadata": {
        "id": "sYTwy4BbByFr",
        "colab_type": "code",
        "colab": {}
      },
      "source": [
        "norm_band = Normalize(vmin=bands.min(), vmax=bands.max())"
      ],
      "execution_count": 0,
      "outputs": []
    },
    {
      "cell_type": "markdown",
      "metadata": {
        "id": "KIewVQ0aZKFO",
        "colab_type": "text"
      },
      "source": [
        "### Feature Extraction"
      ]
    },
    {
      "cell_type": "markdown",
      "metadata": {
        "id": "_CYlVjl8ZWbF",
        "colab_type": "text"
      },
      "source": [
        "1. Extraction mean and standard deviation of the original lightcurve"
      ]
    },
    {
      "cell_type": "code",
      "metadata": {
        "id": "iF2H6_t0f2aD",
        "colab_type": "code",
        "colab": {}
      },
      "source": [
        "means = lcvs.groupby([\"object_id\", \"passband\"])[[\"flux\"]].mean()\n",
        "stds = lcvs.groupby([\"object_id\", \"passband\"])[[\"flux\"]].std()"
      ],
      "execution_count": 0,
      "outputs": []
    },
    {
      "cell_type": "code",
      "metadata": {
        "id": "IK9V5aHEksfO",
        "colab_type": "code",
        "colab": {}
      },
      "source": [
        "features = means.rename({\"flux\": \"mean\"}, axis=1).\\\n",
        "                  merge(stds.rename({\"flux\": \"std\"}, axis=1), \n",
        "                        left_index=True, right_index=True)"
      ],
      "execution_count": 0,
      "outputs": []
    },
    {
      "cell_type": "markdown",
      "metadata": {
        "id": "eWeNZyB4oxOr",
        "colab_type": "text"
      },
      "source": [
        "2. Heigher order moments m1 and m2"
      ]
    },
    {
      "cell_type": "code",
      "metadata": {
        "id": "kJPFS-QHogG_",
        "colab_type": "code",
        "colab": {}
      },
      "source": [
        "from scipy import stats \n",
        "def m2_get(x):\n",
        "    return stats.moment(x, moment = 2)\n",
        "def m3_get(x):\n",
        "    return stats.moment(x, moment = 3)\n",
        "    \n",
        "m2 = lcvs.groupby([\"object_id\", \"passband\"])[\"flux\"].apply(m2_get)\n",
        "m3 = lcvs.groupby([\"object_id\", \"passband\"])[\"flux\"].apply(m3_get)"
      ],
      "execution_count": 0,
      "outputs": []
    },
    {
      "cell_type": "code",
      "metadata": {
        "id": "FMdC5dRTof85",
        "colab_type": "code",
        "colab": {}
      },
      "source": [
        "features = features.merge(pd.DataFrame(m2).rename({\"flux\":\"m2\"}, axis=1), \n",
        "                          left_index=True, right_index=True)\n",
        "features = features.merge(pd.DataFrame(m2).rename({\"flux\":\"m3\"}, axis=1), \n",
        "                          left_index=True, right_index=True)"
      ],
      "execution_count": 0,
      "outputs": []
    },
    {
      "cell_type": "markdown",
      "metadata": {
        "id": "gQULtsL5o_IU",
        "colab_type": "text"
      },
      "source": [
        "3. Max and Min values"
      ]
    },
    {
      "cell_type": "code",
      "metadata": {
        "id": "d1EEaBsHofyj",
        "colab_type": "code",
        "colab": {}
      },
      "source": [
        "maxs = lcvs.groupby([\"object_id\", \"passband\"])[\"flux\"].max()\n",
        "mins = lcvs.groupby([\"object_id\", \"passband\"])[\"flux\"].min()"
      ],
      "execution_count": 0,
      "outputs": []
    },
    {
      "cell_type": "code",
      "metadata": {
        "id": "W0Btu_7Oofh2",
        "colab_type": "code",
        "colab": {}
      },
      "source": [
        "features = features.merge(pd.DataFrame(maxs).rename({\"flux\":\"maxs\"}, axis=1), \n",
        "                          left_index=True, right_index=True)\n",
        "features = features.merge(pd.DataFrame(mins).rename({\"flux\":\"mins\"}, axis=1), \n",
        "                          left_index=True, right_index=True)"
      ],
      "execution_count": 0,
      "outputs": []
    },
    {
      "cell_type": "markdown",
      "metadata": {
        "id": "M0ATosE3Zr5l",
        "colab_type": "text"
      },
      "source": [
        "4. Normalizing the original lightcurve"
      ]
    },
    {
      "cell_type": "code",
      "metadata": {
        "id": "wrUZ98MMVBMr",
        "colab_type": "code",
        "colab": {}
      },
      "source": [
        "# normalize each LC this is very slow. can you make  it faster?\n",
        "def normed(df):\n",
        "   return (df - df.mean())/df.std()\n",
        "       \n",
        "lcvs['fluxnormed'] = lcvs.groupby([\"object_id\", \"passband\"])[['flux']].\\\n",
        "                                  apply(normed)\n",
        "lcvs['fluxerrnormed'] = lcvs.groupby([\"object_id\", \"passband\"])[['flux_err']].\\\n",
        "                                  apply(normed)"
      ],
      "execution_count": 0,
      "outputs": []
    },
    {
      "cell_type": "markdown",
      "metadata": {
        "id": "4zDMP7saZ2MV",
        "colab_type": "text"
      },
      "source": [
        "5. Extraction of median and line fit parameters from normalized lightcurve : giving the center of mass"
      ]
    },
    {
      "cell_type": "code",
      "metadata": {
        "id": "zBKwPqAr3s0G",
        "colab_type": "code",
        "colab": {}
      },
      "source": [
        "median = lcvs.groupby([\"object_id\", \"passband\"])[[\"fluxnormed\"]].median()\n",
        "#stds = lcvs.groupby([\"object_id\", \"passband\"])[[\"flux\"]].std()"
      ],
      "execution_count": 0,
      "outputs": []
    },
    {
      "cell_type": "code",
      "metadata": {
        "id": "6auSEA9AHc-r",
        "colab_type": "code",
        "colab": {}
      },
      "source": [
        "features = features.merge(median.rename({\"fluxnormed\": \"median\"}, axis=1), \n",
        "                        left_index=True, right_index=True)"
      ],
      "execution_count": 0,
      "outputs": []
    },
    {
      "cell_type": "markdown",
      "metadata": {
        "id": "JQE6j4K3rhie",
        "colab_type": "text"
      },
      "source": [
        "6. Line fit parameters of normalized lightcurve"
      ]
    },
    {
      "cell_type": "code",
      "metadata": {
        "id": "4Xw4ln2e4CY2",
        "colab_type": "code",
        "colab": {}
      },
      "source": [
        "def slope(x):\n",
        "    pars = np.polyfit(range(len(x)), x[\"fluxnormed\"].values, 1)\n",
        "    return pars[0]\n",
        "def intercept(x):\n",
        "    pars = np.polyfit(range(len(x)), x[\"fluxnormed\"].values, 1)\n",
        "    return pars[1]  \n",
        "\n",
        "features['slope'] = lcvs.groupby([\"object_id\", \"passband\"]).\\\n",
        "                                      apply(slope).to_frame()\n",
        "features['intercept'] = lcvs.groupby([\"object_id\", \"passband\"]).\\\n",
        "                                      apply(intercept).to_frame()"
      ],
      "execution_count": 0,
      "outputs": []
    },
    {
      "cell_type": "markdown",
      "metadata": {
        "id": "gvwslnmNrrPD",
        "colab_type": "text"
      },
      "source": [
        "7. Quadratic fit parameters of the normalized lightcurve"
      ]
    },
    {
      "cell_type": "code",
      "metadata": {
        "id": "mqJ12zu6r2px",
        "colab_type": "code",
        "outputId": "496b6a39-abba-457e-85e5-8906e69c4b78",
        "colab": {
          "base_uri": "https://localhost:8080/",
          "height": 54
        }
      },
      "source": [
        "from statsmodels.formula.api import ols\n",
        "def quadfit(x):\n",
        "    x['t'] = x.mjd - x.iloc[0].mjd\n",
        "    mod1 = ols(formula='fluxnormed~t + 1', data=x).fit()\n",
        "    mod2 = ols(formula='fluxnormed~pow(t, 2) + t + 1', data=x).fit()\n",
        "    \n",
        "    pars = mod2.llf, mod1.llf, np.sign(mod2.params[1])\n",
        "    return pars\n",
        "ols = lcvs.groupby([\"object_id\", \"passband\"]).apply(quadfit)"
      ],
      "execution_count": 100,
      "outputs": [
        {
          "output_type": "stream",
          "text": [
            "/usr/local/lib/python3.6/dist-packages/statsmodels/regression/linear_model.py:867: RuntimeWarning: divide by zero encountered in log\n",
            "  llf = -nobs2*np.log(2*np.pi) - nobs2*np.log(ssr / nobs) - nobs2\n"
          ],
          "name": "stderr"
        }
      ]
    },
    {
      "cell_type": "code",
      "metadata": {
        "id": "yX59PcDwsCBl",
        "colab_type": "code",
        "colab": {}
      },
      "source": [
        "ll1 = [x[0] for x in ols.values[:]]\n",
        "ll2 = [x[1] for x in ols.values[:]]\n",
        "ll3 = [x[2] for x in ols.values[:]]"
      ],
      "execution_count": 0,
      "outputs": []
    },
    {
      "cell_type": "code",
      "metadata": {
        "id": "CSHBUwDcsBxd",
        "colab_type": "code",
        "colab": {}
      },
      "source": [
        "features[\"ll1\"] = ll1\n",
        "features[\"ll2\"] = ll2\n",
        "features[\"ll3\"] = ll3"
      ],
      "execution_count": 0,
      "outputs": []
    },
    {
      "cell_type": "code",
      "metadata": {
        "id": "RItQnoF6VQsM",
        "colab_type": "code",
        "colab": {
          "base_uri": "https://localhost:8080/",
          "height": 36
        },
        "outputId": "0f16c94e-b214-4be6-e8c7-8f51b61ff69a"
      },
      "source": [
        "features.shape"
      ],
      "execution_count": 73,
      "outputs": [
        {
          "output_type": "execute_result",
          "data": {
            "text/plain": [
              "(726, 12)"
            ]
          },
          "metadata": {
            "tags": []
          },
          "execution_count": 73
        }
      ]
    },
    {
      "cell_type": "code",
      "metadata": {
        "id": "7I6hLHJgCA3n",
        "colab_type": "code",
        "outputId": "572d2d4a-3104-4d49-919e-1ab633824975",
        "colab": {
          "base_uri": "https://localhost:8080/",
          "height": 257
        }
      },
      "source": [
        "features.head()"
      ],
      "execution_count": 74,
      "outputs": [
        {
          "output_type": "execute_result",
          "data": {
            "text/html": [
              "<div>\n",
              "<style scoped>\n",
              "    .dataframe tbody tr th:only-of-type {\n",
              "        vertical-align: middle;\n",
              "    }\n",
              "\n",
              "    .dataframe tbody tr th {\n",
              "        vertical-align: top;\n",
              "    }\n",
              "\n",
              "    .dataframe thead th {\n",
              "        text-align: right;\n",
              "    }\n",
              "</style>\n",
              "<table border=\"1\" class=\"dataframe\">\n",
              "  <thead>\n",
              "    <tr style=\"text-align: right;\">\n",
              "      <th></th>\n",
              "      <th></th>\n",
              "      <th>mean</th>\n",
              "      <th>std</th>\n",
              "      <th>m2</th>\n",
              "      <th>m3</th>\n",
              "      <th>maxs</th>\n",
              "      <th>mins</th>\n",
              "      <th>median</th>\n",
              "      <th>slope</th>\n",
              "      <th>intercept</th>\n",
              "      <th>ll1</th>\n",
              "      <th>ll2</th>\n",
              "      <th>ll3</th>\n",
              "    </tr>\n",
              "    <tr>\n",
              "      <th>object_id</th>\n",
              "      <th>passband</th>\n",
              "      <th></th>\n",
              "      <th></th>\n",
              "      <th></th>\n",
              "      <th></th>\n",
              "      <th></th>\n",
              "      <th></th>\n",
              "      <th></th>\n",
              "      <th></th>\n",
              "      <th></th>\n",
              "      <th></th>\n",
              "      <th></th>\n",
              "      <th></th>\n",
              "    </tr>\n",
              "  </thead>\n",
              "  <tbody>\n",
              "    <tr>\n",
              "      <th rowspan=\"5\" valign=\"top\">615</th>\n",
              "      <th>0</th>\n",
              "      <td>-3.254554</td>\n",
              "      <td>83.944735</td>\n",
              "      <td>6934.865833</td>\n",
              "      <td>6934.865833</td>\n",
              "      <td>125.182808</td>\n",
              "      <td>-116.913223</td>\n",
              "      <td>-0.080537</td>\n",
              "      <td>0.005676</td>\n",
              "      <td>-0.175947</td>\n",
              "      <td>-84.013092</td>\n",
              "      <td>-88.218652</td>\n",
              "      <td>-1.0</td>\n",
              "    </tr>\n",
              "    <tr>\n",
              "      <th>1</th>\n",
              "      <td>-385.699911</td>\n",
              "      <td>601.787302</td>\n",
              "      <td>355904.026224</td>\n",
              "      <td>355904.026224</td>\n",
              "      <td>660.626343</td>\n",
              "      <td>-1100.440063</td>\n",
              "      <td>-0.170090</td>\n",
              "      <td>0.014032</td>\n",
              "      <td>-0.399902</td>\n",
              "      <td>-80.867915</td>\n",
              "      <td>-80.869998</td>\n",
              "      <td>-1.0</td>\n",
              "    </tr>\n",
              "    <tr>\n",
              "      <th>2</th>\n",
              "      <td>-134.146566</td>\n",
              "      <td>455.121346</td>\n",
              "      <td>203564.138816</td>\n",
              "      <td>203564.138816</td>\n",
              "      <td>611.984558</td>\n",
              "      <td>-681.858887</td>\n",
              "      <td>-0.289021</td>\n",
              "      <td>0.017676</td>\n",
              "      <td>-0.503760</td>\n",
              "      <td>-80.092803</td>\n",
              "      <td>-80.109763</td>\n",
              "      <td>-1.0</td>\n",
              "    </tr>\n",
              "    <tr>\n",
              "      <th>3</th>\n",
              "      <td>-121.103501</td>\n",
              "      <td>335.425053</td>\n",
              "      <td>110570.138947</td>\n",
              "      <td>110570.138947</td>\n",
              "      <td>445.737061</td>\n",
              "      <td>-530.644592</td>\n",
              "      <td>-0.122434</td>\n",
              "      <td>0.020475</td>\n",
              "      <td>-0.583524</td>\n",
              "      <td>-79.226482</td>\n",
              "      <td>-79.290039</td>\n",
              "      <td>-1.0</td>\n",
              "    </tr>\n",
              "    <tr>\n",
              "      <th>4</th>\n",
              "      <td>-55.954592</td>\n",
              "      <td>291.803449</td>\n",
              "      <td>83681.162283</td>\n",
              "      <td>83681.162283</td>\n",
              "      <td>381.953735</td>\n",
              "      <td>-422.184509</td>\n",
              "      <td>-0.163078</td>\n",
              "      <td>0.022343</td>\n",
              "      <td>-0.636786</td>\n",
              "      <td>-78.160027</td>\n",
              "      <td>-78.480261</td>\n",
              "      <td>-1.0</td>\n",
              "    </tr>\n",
              "  </tbody>\n",
              "</table>\n",
              "</div>"
            ],
            "text/plain": [
              "                          mean         std  ...        ll2  ll3\n",
              "object_id passband                          ...                \n",
              "615       0          -3.254554   83.944735  ... -88.218652 -1.0\n",
              "          1        -385.699911  601.787302  ... -80.869998 -1.0\n",
              "          2        -134.146566  455.121346  ... -80.109763 -1.0\n",
              "          3        -121.103501  335.425053  ... -79.290039 -1.0\n",
              "          4         -55.954592  291.803449  ... -78.480261 -1.0\n",
              "\n",
              "[5 rows x 12 columns]"
            ]
          },
          "metadata": {
            "tags": []
          },
          "execution_count": 74
        }
      ]
    },
    {
      "cell_type": "code",
      "metadata": {
        "id": "mBhnLZEmUcGc",
        "colab_type": "code",
        "colab": {}
      },
      "source": [
        "allfeatures = features.reset_index().set_index(['object_id','passband']).stack(\n",
        "    ).unstack([1,2])"
      ],
      "execution_count": 0,
      "outputs": []
    },
    {
      "cell_type": "code",
      "metadata": {
        "id": "ux9GelaewOyf",
        "colab_type": "code",
        "outputId": "5659aa99-952f-4d6b-b6c4-27f889a3bbe7",
        "colab": {
          "base_uri": "https://localhost:8080/",
          "height": 226
        }
      },
      "source": [
        "metadata.head()"
      ],
      "execution_count": 76,
      "outputs": [
        {
          "output_type": "execute_result",
          "data": {
            "text/html": [
              "<div>\n",
              "<style scoped>\n",
              "    .dataframe tbody tr th:only-of-type {\n",
              "        vertical-align: middle;\n",
              "    }\n",
              "\n",
              "    .dataframe tbody tr th {\n",
              "        vertical-align: top;\n",
              "    }\n",
              "\n",
              "    .dataframe thead th {\n",
              "        text-align: right;\n",
              "    }\n",
              "</style>\n",
              "<table border=\"1\" class=\"dataframe\">\n",
              "  <thead>\n",
              "    <tr style=\"text-align: right;\">\n",
              "      <th></th>\n",
              "      <th>object_id</th>\n",
              "      <th>ra</th>\n",
              "      <th>decl</th>\n",
              "      <th>ddf_bool</th>\n",
              "      <th>hostgal_specz</th>\n",
              "      <th>hostgal_photoz</th>\n",
              "      <th>hostgal_photoz_err</th>\n",
              "      <th>distmod</th>\n",
              "      <th>mwebv</th>\n",
              "      <th>target</th>\n",
              "      <th>true_target</th>\n",
              "      <th>true_submodel</th>\n",
              "      <th>true_z</th>\n",
              "      <th>true_distmod</th>\n",
              "      <th>true_lensdmu</th>\n",
              "      <th>true_vpec</th>\n",
              "      <th>true_rv</th>\n",
              "      <th>true_av</th>\n",
              "      <th>true_peakmjd</th>\n",
              "      <th>libid_cadence</th>\n",
              "      <th>tflux_u</th>\n",
              "      <th>tflux_g</th>\n",
              "      <th>tflux_r</th>\n",
              "      <th>tflux_i</th>\n",
              "      <th>tflux_z</th>\n",
              "      <th>tflux_y</th>\n",
              "    </tr>\n",
              "  </thead>\n",
              "  <tbody>\n",
              "    <tr>\n",
              "      <th>0</th>\n",
              "      <td>615</td>\n",
              "      <td>349.0461</td>\n",
              "      <td>-61.9438</td>\n",
              "      <td>1</td>\n",
              "      <td>0.000</td>\n",
              "      <td>0.000</td>\n",
              "      <td>0.000</td>\n",
              "      <td>-9.000</td>\n",
              "      <td>0.017</td>\n",
              "      <td>92</td>\n",
              "      <td>92</td>\n",
              "      <td>1</td>\n",
              "      <td>0.000</td>\n",
              "      <td>0.000</td>\n",
              "      <td>0.000</td>\n",
              "      <td>0.0</td>\n",
              "      <td>0.0</td>\n",
              "      <td>0.0</td>\n",
              "      <td>59570.000</td>\n",
              "      <td>69</td>\n",
              "      <td>484.7</td>\n",
              "      <td>3286.7</td>\n",
              "      <td>3214.1</td>\n",
              "      <td>3039.7</td>\n",
              "      <td>2854.5</td>\n",
              "      <td>2837.0</td>\n",
              "    </tr>\n",
              "    <tr>\n",
              "      <th>1</th>\n",
              "      <td>713</td>\n",
              "      <td>53.0859</td>\n",
              "      <td>-27.7844</td>\n",
              "      <td>1</td>\n",
              "      <td>1.818</td>\n",
              "      <td>1.627</td>\n",
              "      <td>0.255</td>\n",
              "      <td>45.406</td>\n",
              "      <td>0.007</td>\n",
              "      <td>88</td>\n",
              "      <td>88</td>\n",
              "      <td>1</td>\n",
              "      <td>1.817</td>\n",
              "      <td>45.703</td>\n",
              "      <td>0.000</td>\n",
              "      <td>0.0</td>\n",
              "      <td>0.0</td>\n",
              "      <td>0.0</td>\n",
              "      <td>59570.000</td>\n",
              "      <td>34</td>\n",
              "      <td>108.7</td>\n",
              "      <td>117.7</td>\n",
              "      <td>119.9</td>\n",
              "      <td>149.6</td>\n",
              "      <td>147.9</td>\n",
              "      <td>150.5</td>\n",
              "    </tr>\n",
              "    <tr>\n",
              "      <th>2</th>\n",
              "      <td>730</td>\n",
              "      <td>33.5742</td>\n",
              "      <td>-6.5796</td>\n",
              "      <td>1</td>\n",
              "      <td>0.232</td>\n",
              "      <td>0.226</td>\n",
              "      <td>0.016</td>\n",
              "      <td>40.256</td>\n",
              "      <td>0.021</td>\n",
              "      <td>42</td>\n",
              "      <td>42</td>\n",
              "      <td>2</td>\n",
              "      <td>0.233</td>\n",
              "      <td>40.328</td>\n",
              "      <td>0.004</td>\n",
              "      <td>4.5</td>\n",
              "      <td>0.0</td>\n",
              "      <td>0.0</td>\n",
              "      <td>60444.379</td>\n",
              "      <td>9</td>\n",
              "      <td>0.0</td>\n",
              "      <td>0.0</td>\n",
              "      <td>0.0</td>\n",
              "      <td>0.0</td>\n",
              "      <td>0.0</td>\n",
              "      <td>0.0</td>\n",
              "    </tr>\n",
              "    <tr>\n",
              "      <th>3</th>\n",
              "      <td>745</td>\n",
              "      <td>0.1899</td>\n",
              "      <td>-45.5867</td>\n",
              "      <td>1</td>\n",
              "      <td>0.304</td>\n",
              "      <td>0.281</td>\n",
              "      <td>1.152</td>\n",
              "      <td>40.795</td>\n",
              "      <td>0.007</td>\n",
              "      <td>90</td>\n",
              "      <td>90</td>\n",
              "      <td>1</td>\n",
              "      <td>0.301</td>\n",
              "      <td>40.969</td>\n",
              "      <td>-0.004</td>\n",
              "      <td>257.7</td>\n",
              "      <td>0.0</td>\n",
              "      <td>0.0</td>\n",
              "      <td>60130.453</td>\n",
              "      <td>38</td>\n",
              "      <td>0.0</td>\n",
              "      <td>0.0</td>\n",
              "      <td>0.0</td>\n",
              "      <td>0.0</td>\n",
              "      <td>0.0</td>\n",
              "      <td>0.0</td>\n",
              "    </tr>\n",
              "    <tr>\n",
              "      <th>4</th>\n",
              "      <td>1124</td>\n",
              "      <td>352.7113</td>\n",
              "      <td>-63.8237</td>\n",
              "      <td>1</td>\n",
              "      <td>0.193</td>\n",
              "      <td>0.241</td>\n",
              "      <td>0.018</td>\n",
              "      <td>40.417</td>\n",
              "      <td>0.024</td>\n",
              "      <td>90</td>\n",
              "      <td>90</td>\n",
              "      <td>1</td>\n",
              "      <td>0.193</td>\n",
              "      <td>39.866</td>\n",
              "      <td>-0.002</td>\n",
              "      <td>-368.8</td>\n",
              "      <td>0.0</td>\n",
              "      <td>0.0</td>\n",
              "      <td>60452.641</td>\n",
              "      <td>1</td>\n",
              "      <td>0.0</td>\n",
              "      <td>0.0</td>\n",
              "      <td>0.0</td>\n",
              "      <td>0.0</td>\n",
              "      <td>0.0</td>\n",
              "      <td>0.0</td>\n",
              "    </tr>\n",
              "  </tbody>\n",
              "</table>\n",
              "</div>"
            ],
            "text/plain": [
              "   object_id        ra     decl  ddf_bool  ...  tflux_r  tflux_i  tflux_z  tflux_y\n",
              "0        615  349.0461 -61.9438         1  ...   3214.1   3039.7   2854.5   2837.0\n",
              "1        713   53.0859 -27.7844         1  ...    119.9    149.6    147.9    150.5\n",
              "2        730   33.5742  -6.5796         1  ...      0.0      0.0      0.0      0.0\n",
              "3        745    0.1899 -45.5867         1  ...      0.0      0.0      0.0      0.0\n",
              "4       1124  352.7113 -63.8237         1  ...      0.0      0.0      0.0      0.0\n",
              "\n",
              "[5 rows x 26 columns]"
            ]
          },
          "metadata": {
            "tags": []
          },
          "execution_count": 76
        }
      ]
    },
    {
      "cell_type": "markdown",
      "metadata": {
        "id": "pAIYz61sdXI-",
        "colab_type": "text"
      },
      "source": [
        "8. Adding features from metadata"
      ]
    },
    {
      "cell_type": "code",
      "metadata": {
        "id": "1gvUsSHFbSWx",
        "colab_type": "code",
        "outputId": "55715415-15dd-4570-a958-61188ca85d3c",
        "colab": {
          "base_uri": "https://localhost:8080/",
          "height": 243
        }
      },
      "source": [
        "allfeatures = allfeatures.merge(metadata[[\"object_id\", \"decl\", \"ddf_bool\", \\\n",
        "                                          \"hostgal_photoz\",\\\n",
        "                                          \"hostgal_photoz_err\", \"target\"]], \\\n",
        "                                on=['object_id']).drop(\"object_id\", axis=1)\n",
        "allfeatures.head()"
      ],
      "execution_count": 77,
      "outputs": [
        {
          "output_type": "execute_result",
          "data": {
            "text/html": [
              "<div>\n",
              "<style scoped>\n",
              "    .dataframe tbody tr th:only-of-type {\n",
              "        vertical-align: middle;\n",
              "    }\n",
              "\n",
              "    .dataframe tbody tr th {\n",
              "        vertical-align: top;\n",
              "    }\n",
              "\n",
              "    .dataframe thead th {\n",
              "        text-align: right;\n",
              "    }\n",
              "</style>\n",
              "<table border=\"1\" class=\"dataframe\">\n",
              "  <thead>\n",
              "    <tr style=\"text-align: right;\">\n",
              "      <th></th>\n",
              "      <th>(0, mean)</th>\n",
              "      <th>(0, std)</th>\n",
              "      <th>(0, m2)</th>\n",
              "      <th>(0, m3)</th>\n",
              "      <th>(0, maxs)</th>\n",
              "      <th>(0, mins)</th>\n",
              "      <th>(0, median)</th>\n",
              "      <th>(0, slope)</th>\n",
              "      <th>(0, intercept)</th>\n",
              "      <th>(0, ll1)</th>\n",
              "      <th>(0, ll2)</th>\n",
              "      <th>(0, ll3)</th>\n",
              "      <th>(1, mean)</th>\n",
              "      <th>(1, std)</th>\n",
              "      <th>(1, m2)</th>\n",
              "      <th>(1, m3)</th>\n",
              "      <th>(1, maxs)</th>\n",
              "      <th>(1, mins)</th>\n",
              "      <th>(1, median)</th>\n",
              "      <th>(1, slope)</th>\n",
              "      <th>(1, intercept)</th>\n",
              "      <th>(1, ll1)</th>\n",
              "      <th>(1, ll2)</th>\n",
              "      <th>(1, ll3)</th>\n",
              "      <th>(2, mean)</th>\n",
              "      <th>(2, std)</th>\n",
              "      <th>(2, m2)</th>\n",
              "      <th>(2, m3)</th>\n",
              "      <th>(2, maxs)</th>\n",
              "      <th>(2, mins)</th>\n",
              "      <th>(2, median)</th>\n",
              "      <th>(2, slope)</th>\n",
              "      <th>(2, intercept)</th>\n",
              "      <th>(2, ll1)</th>\n",
              "      <th>(2, ll2)</th>\n",
              "      <th>(2, ll3)</th>\n",
              "      <th>(3, mean)</th>\n",
              "      <th>(3, std)</th>\n",
              "      <th>(3, m2)</th>\n",
              "      <th>(3, m3)</th>\n",
              "      <th>(3, maxs)</th>\n",
              "      <th>(3, mins)</th>\n",
              "      <th>(3, median)</th>\n",
              "      <th>(3, slope)</th>\n",
              "      <th>(3, intercept)</th>\n",
              "      <th>(3, ll1)</th>\n",
              "      <th>(3, ll2)</th>\n",
              "      <th>(3, ll3)</th>\n",
              "      <th>(4, mean)</th>\n",
              "      <th>(4, std)</th>\n",
              "      <th>(4, m2)</th>\n",
              "      <th>(4, m3)</th>\n",
              "      <th>(4, maxs)</th>\n",
              "      <th>(4, mins)</th>\n",
              "      <th>(4, median)</th>\n",
              "      <th>(4, slope)</th>\n",
              "      <th>(4, intercept)</th>\n",
              "      <th>(4, ll1)</th>\n",
              "      <th>(4, ll2)</th>\n",
              "      <th>(4, ll3)</th>\n",
              "      <th>(5, mean)</th>\n",
              "      <th>(5, std)</th>\n",
              "      <th>(5, m2)</th>\n",
              "      <th>(5, m3)</th>\n",
              "      <th>(5, maxs)</th>\n",
              "      <th>(5, mins)</th>\n",
              "      <th>(5, median)</th>\n",
              "      <th>(5, slope)</th>\n",
              "      <th>(5, intercept)</th>\n",
              "      <th>(5, ll1)</th>\n",
              "      <th>(5, ll2)</th>\n",
              "      <th>(5, ll3)</th>\n",
              "      <th>decl</th>\n",
              "      <th>ddf_bool</th>\n",
              "      <th>hostgal_photoz</th>\n",
              "      <th>hostgal_photoz_err</th>\n",
              "      <th>target</th>\n",
              "    </tr>\n",
              "  </thead>\n",
              "  <tbody>\n",
              "    <tr>\n",
              "      <th>0</th>\n",
              "      <td>-3.254554</td>\n",
              "      <td>83.944735</td>\n",
              "      <td>6934.865833</td>\n",
              "      <td>6934.865833</td>\n",
              "      <td>125.182808</td>\n",
              "      <td>-116.913223</td>\n",
              "      <td>-0.080537</td>\n",
              "      <td>0.005676</td>\n",
              "      <td>-0.175947</td>\n",
              "      <td>-84.013092</td>\n",
              "      <td>-88.218652</td>\n",
              "      <td>-1.0</td>\n",
              "      <td>-385.699911</td>\n",
              "      <td>601.787302</td>\n",
              "      <td>355904.026224</td>\n",
              "      <td>355904.026224</td>\n",
              "      <td>660.626343</td>\n",
              "      <td>-1100.440063</td>\n",
              "      <td>-0.170090</td>\n",
              "      <td>0.014032</td>\n",
              "      <td>-0.399902</td>\n",
              "      <td>-80.867915</td>\n",
              "      <td>-80.869998</td>\n",
              "      <td>-1.0</td>\n",
              "      <td>-134.146566</td>\n",
              "      <td>455.121346</td>\n",
              "      <td>203564.138816</td>\n",
              "      <td>203564.138816</td>\n",
              "      <td>611.984558</td>\n",
              "      <td>-681.858887</td>\n",
              "      <td>-0.289021</td>\n",
              "      <td>0.017676</td>\n",
              "      <td>-0.503760</td>\n",
              "      <td>-80.092803</td>\n",
              "      <td>-80.109763</td>\n",
              "      <td>-1.0</td>\n",
              "      <td>-121.103501</td>\n",
              "      <td>335.425053</td>\n",
              "      <td>110570.138947</td>\n",
              "      <td>110570.138947</td>\n",
              "      <td>445.737061</td>\n",
              "      <td>-530.644592</td>\n",
              "      <td>-0.122434</td>\n",
              "      <td>0.020475</td>\n",
              "      <td>-0.583524</td>\n",
              "      <td>-79.226482</td>\n",
              "      <td>-79.290039</td>\n",
              "      <td>-1.0</td>\n",
              "      <td>-55.954592</td>\n",
              "      <td>291.803449</td>\n",
              "      <td>83681.162283</td>\n",
              "      <td>83681.162283</td>\n",
              "      <td>381.953735</td>\n",
              "      <td>-422.184509</td>\n",
              "      <td>-0.163078</td>\n",
              "      <td>0.022343</td>\n",
              "      <td>-0.636786</td>\n",
              "      <td>-78.160027</td>\n",
              "      <td>-78.480261</td>\n",
              "      <td>-1.0</td>\n",
              "      <td>-47.449847</td>\n",
              "      <td>294.779522</td>\n",
              "      <td>85370.493377</td>\n",
              "      <td>85370.493377</td>\n",
              "      <td>378.188141</td>\n",
              "      <td>-422.815094</td>\n",
              "      <td>-0.129163</td>\n",
              "      <td>0.021319</td>\n",
              "      <td>-0.596932</td>\n",
              "      <td>-76.917754</td>\n",
              "      <td>-77.386461</td>\n",
              "      <td>-1.0</td>\n",
              "      <td>-61.9438</td>\n",
              "      <td>1</td>\n",
              "      <td>0.000</td>\n",
              "      <td>0.000</td>\n",
              "      <td>92</td>\n",
              "    </tr>\n",
              "    <tr>\n",
              "      <th>1</th>\n",
              "      <td>-2.720398</td>\n",
              "      <td>7.113509</td>\n",
              "      <td>49.879128</td>\n",
              "      <td>49.879128</td>\n",
              "      <td>14.509829</td>\n",
              "      <td>-14.735178</td>\n",
              "      <td>-0.052914</td>\n",
              "      <td>-0.041433</td>\n",
              "      <td>1.429423</td>\n",
              "      <td>-45.801483</td>\n",
              "      <td>-49.801325</td>\n",
              "      <td>-1.0</td>\n",
              "      <td>-1.019804</td>\n",
              "      <td>5.712334</td>\n",
              "      <td>32.048070</td>\n",
              "      <td>32.048070</td>\n",
              "      <td>9.129021</td>\n",
              "      <td>-11.715749</td>\n",
              "      <td>0.080189</td>\n",
              "      <td>-0.051648</td>\n",
              "      <td>1.420320</td>\n",
              "      <td>-36.052358</td>\n",
              "      <td>-38.161170</td>\n",
              "      <td>-1.0</td>\n",
              "      <td>-0.794238</td>\n",
              "      <td>5.770738</td>\n",
              "      <td>32.706748</td>\n",
              "      <td>32.706748</td>\n",
              "      <td>10.529041</td>\n",
              "      <td>-10.067919</td>\n",
              "      <td>0.117188</td>\n",
              "      <td>-0.053887</td>\n",
              "      <td>1.481892</td>\n",
              "      <td>-34.410798</td>\n",
              "      <td>-35.611095</td>\n",
              "      <td>-1.0</td>\n",
              "      <td>-0.986966</td>\n",
              "      <td>6.450413</td>\n",
              "      <td>40.864832</td>\n",
              "      <td>40.864832</td>\n",
              "      <td>11.330316</td>\n",
              "      <td>-12.394593</td>\n",
              "      <td>0.141552</td>\n",
              "      <td>-0.050983</td>\n",
              "      <td>1.402038</td>\n",
              "      <td>-38.701863</td>\n",
              "      <td>-41.302700</td>\n",
              "      <td>-1.0</td>\n",
              "      <td>-0.900262</td>\n",
              "      <td>6.406989</td>\n",
              "      <td>40.316483</td>\n",
              "      <td>40.316483</td>\n",
              "      <td>9.827934</td>\n",
              "      <td>-12.286801</td>\n",
              "      <td>0.016870</td>\n",
              "      <td>-0.050464</td>\n",
              "      <td>1.387765</td>\n",
              "      <td>-44.424807</td>\n",
              "      <td>-44.870314</td>\n",
              "      <td>-1.0</td>\n",
              "      <td>-1.794175</td>\n",
              "      <td>7.094073</td>\n",
              "      <td>49.427194</td>\n",
              "      <td>49.427194</td>\n",
              "      <td>14.770886</td>\n",
              "      <td>-14.211164</td>\n",
              "      <td>-0.094281</td>\n",
              "      <td>-0.037903</td>\n",
              "      <td>1.042343</td>\n",
              "      <td>-65.167686</td>\n",
              "      <td>-65.424297</td>\n",
              "      <td>-1.0</td>\n",
              "      <td>-27.7844</td>\n",
              "      <td>1</td>\n",
              "      <td>1.627</td>\n",
              "      <td>0.255</td>\n",
              "      <td>88</td>\n",
              "    </tr>\n",
              "    <tr>\n",
              "      <th>2</th>\n",
              "      <td>-0.048080</td>\n",
              "      <td>1.828872</td>\n",
              "      <td>3.298318</td>\n",
              "      <td>3.298318</td>\n",
              "      <td>5.942166</td>\n",
              "      <td>-3.459960</td>\n",
              "      <td>0.039463</td>\n",
              "      <td>-0.001798</td>\n",
              "      <td>0.063840</td>\n",
              "      <td>-101.249926</td>\n",
              "      <td>-101.606902</td>\n",
              "      <td>-1.0</td>\n",
              "      <td>0.141057</td>\n",
              "      <td>1.807229</td>\n",
              "      <td>3.203266</td>\n",
              "      <td>3.203266</td>\n",
              "      <td>5.693109</td>\n",
              "      <td>-3.393080</td>\n",
              "      <td>0.016754</td>\n",
              "      <td>0.003167</td>\n",
              "      <td>-0.080770</td>\n",
              "      <td>-72.910038</td>\n",
              "      <td>-73.012277</td>\n",
              "      <td>-1.0</td>\n",
              "      <td>2.400870</td>\n",
              "      <td>5.559483</td>\n",
              "      <td>30.313471</td>\n",
              "      <td>30.313471</td>\n",
              "      <td>20.994711</td>\n",
              "      <td>-2.848838</td>\n",
              "      <td>-0.343392</td>\n",
              "      <td>0.026905</td>\n",
              "      <td>-0.686084</td>\n",
              "      <td>-63.777334</td>\n",
              "      <td>-65.193298</td>\n",
              "      <td>1.0</td>\n",
              "      <td>3.236164</td>\n",
              "      <td>8.191987</td>\n",
              "      <td>65.818099</td>\n",
              "      <td>65.818099</td>\n",
              "      <td>33.572102</td>\n",
              "      <td>-5.435799</td>\n",
              "      <td>-0.314425</td>\n",
              "      <td>0.024491</td>\n",
              "      <td>-0.624531</td>\n",
              "      <td>-66.369632</td>\n",
              "      <td>-66.683538</td>\n",
              "      <td>1.0</td>\n",
              "      <td>4.308728</td>\n",
              "      <td>10.710344</td>\n",
              "      <td>112.462234</td>\n",
              "      <td>112.462234</td>\n",
              "      <td>41.159981</td>\n",
              "      <td>-5.836310</td>\n",
              "      <td>-0.308522</td>\n",
              "      <td>0.022552</td>\n",
              "      <td>-0.563811</td>\n",
              "      <td>-65.239486</td>\n",
              "      <td>-66.161110</td>\n",
              "      <td>1.0</td>\n",
              "      <td>4.539396</td>\n",
              "      <td>13.332758</td>\n",
              "      <td>174.276892</td>\n",
              "      <td>174.276892</td>\n",
              "      <td>47.310059</td>\n",
              "      <td>-19.159811</td>\n",
              "      <td>-0.149763</td>\n",
              "      <td>0.019612</td>\n",
              "      <td>-0.490299</td>\n",
              "      <td>-66.518080</td>\n",
              "      <td>-67.853917</td>\n",
              "      <td>1.0</td>\n",
              "      <td>-6.5796</td>\n",
              "      <td>1</td>\n",
              "      <td>0.226</td>\n",
              "      <td>0.016</td>\n",
              "      <td>42</td>\n",
              "    </tr>\n",
              "    <tr>\n",
              "      <th>3</th>\n",
              "      <td>1.797523</td>\n",
              "      <td>4.374445</td>\n",
              "      <td>18.869993</td>\n",
              "      <td>18.869993</td>\n",
              "      <td>18.014029</td>\n",
              "      <td>-3.874349</td>\n",
              "      <td>-0.169349</td>\n",
              "      <td>-0.013089</td>\n",
              "      <td>0.464675</td>\n",
              "      <td>-88.423048</td>\n",
              "      <td>-100.184915</td>\n",
              "      <td>-1.0</td>\n",
              "      <td>5.717394</td>\n",
              "      <td>25.964659</td>\n",
              "      <td>662.124902</td>\n",
              "      <td>662.124902</td>\n",
              "      <td>192.244293</td>\n",
              "      <td>-3.618410</td>\n",
              "      <td>-0.185994</td>\n",
              "      <td>-0.003826</td>\n",
              "      <td>0.105205</td>\n",
              "      <td>-76.313623</td>\n",
              "      <td>-78.932796</td>\n",
              "      <td>-1.0</td>\n",
              "      <td>9.711532</td>\n",
              "      <td>31.957997</td>\n",
              "      <td>1003.075853</td>\n",
              "      <td>1003.075853</td>\n",
              "      <td>220.795212</td>\n",
              "      <td>-2.159753</td>\n",
              "      <td>-0.290606</td>\n",
              "      <td>-0.003878</td>\n",
              "      <td>0.106641</td>\n",
              "      <td>-72.846380</td>\n",
              "      <td>-78.938052</td>\n",
              "      <td>-1.0</td>\n",
              "      <td>14.412924</td>\n",
              "      <td>34.967698</td>\n",
              "      <td>1200.905234</td>\n",
              "      <td>1200.905234</td>\n",
              "      <td>203.250702</td>\n",
              "      <td>-4.944036</td>\n",
              "      <td>-0.373246</td>\n",
              "      <td>-0.003931</td>\n",
              "      <td>0.108112</td>\n",
              "      <td>-67.105516</td>\n",
              "      <td>-78.945375</td>\n",
              "      <td>-1.0</td>\n",
              "      <td>13.134436</td>\n",
              "      <td>33.069053</td>\n",
              "      <td>1074.034376</td>\n",
              "      <td>1074.034376</td>\n",
              "      <td>183.633118</td>\n",
              "      <td>-15.494463</td>\n",
              "      <td>-0.358773</td>\n",
              "      <td>-0.004774</td>\n",
              "      <td>0.131296</td>\n",
              "      <td>-67.067827</td>\n",
              "      <td>-78.924149</td>\n",
              "      <td>-1.0</td>\n",
              "      <td>10.746138</td>\n",
              "      <td>26.060130</td>\n",
              "      <td>666.782529</td>\n",
              "      <td>666.782529</td>\n",
              "      <td>141.513290</td>\n",
              "      <td>-10.249387</td>\n",
              "      <td>-0.306851</td>\n",
              "      <td>-0.002816</td>\n",
              "      <td>0.076043</td>\n",
              "      <td>-64.783463</td>\n",
              "      <td>-77.536999</td>\n",
              "      <td>-1.0</td>\n",
              "      <td>-45.5867</td>\n",
              "      <td>1</td>\n",
              "      <td>0.281</td>\n",
              "      <td>1.152</td>\n",
              "      <td>90</td>\n",
              "    </tr>\n",
              "    <tr>\n",
              "      <th>4</th>\n",
              "      <td>0.660948</td>\n",
              "      <td>2.360084</td>\n",
              "      <td>5.481586</td>\n",
              "      <td>5.481586</td>\n",
              "      <td>5.330927</td>\n",
              "      <td>-6.804703</td>\n",
              "      <td>-0.033864</td>\n",
              "      <td>0.017117</td>\n",
              "      <td>-0.530614</td>\n",
              "      <td>-84.959510</td>\n",
              "      <td>-84.969286</td>\n",
              "      <td>-1.0</td>\n",
              "      <td>4.634637</td>\n",
              "      <td>8.107525</td>\n",
              "      <td>64.598653</td>\n",
              "      <td>64.598653</td>\n",
              "      <td>37.170177</td>\n",
              "      <td>-2.622109</td>\n",
              "      <td>-0.429236</td>\n",
              "      <td>0.028666</td>\n",
              "      <td>-0.816982</td>\n",
              "      <td>-67.527468</td>\n",
              "      <td>-69.333715</td>\n",
              "      <td>1.0</td>\n",
              "      <td>10.243968</td>\n",
              "      <td>21.319854</td>\n",
              "      <td>446.699339</td>\n",
              "      <td>446.699339</td>\n",
              "      <td>106.671692</td>\n",
              "      <td>-2.084535</td>\n",
              "      <td>-0.438785</td>\n",
              "      <td>0.025384</td>\n",
              "      <td>-0.723449</td>\n",
              "      <td>-71.247906</td>\n",
              "      <td>-72.170872</td>\n",
              "      <td>1.0</td>\n",
              "      <td>11.086555</td>\n",
              "      <td>26.270649</td>\n",
              "      <td>678.247892</td>\n",
              "      <td>678.247892</td>\n",
              "      <td>139.818405</td>\n",
              "      <td>-2.800270</td>\n",
              "      <td>-0.383411</td>\n",
              "      <td>0.021342</td>\n",
              "      <td>-0.608237</td>\n",
              "      <td>-74.498916</td>\n",
              "      <td>-74.891133</td>\n",
              "      <td>1.0</td>\n",
              "      <td>9.906102</td>\n",
              "      <td>26.865913</td>\n",
              "      <td>709.332831</td>\n",
              "      <td>709.332831</td>\n",
              "      <td>143.600189</td>\n",
              "      <td>-16.543753</td>\n",
              "      <td>-0.303771</td>\n",
              "      <td>0.019736</td>\n",
              "      <td>-0.562470</td>\n",
              "      <td>-75.898716</td>\n",
              "      <td>-75.991223</td>\n",
              "      <td>1.0</td>\n",
              "      <td>6.896742</td>\n",
              "      <td>21.434627</td>\n",
              "      <td>451.382820</td>\n",
              "      <td>451.382820</td>\n",
              "      <td>109.157585</td>\n",
              "      <td>-10.860540</td>\n",
              "      <td>-0.229697</td>\n",
              "      <td>0.015555</td>\n",
              "      <td>-0.435534</td>\n",
              "      <td>-76.526495</td>\n",
              "      <td>-76.666778</td>\n",
              "      <td>1.0</td>\n",
              "      <td>-63.8237</td>\n",
              "      <td>1</td>\n",
              "      <td>0.241</td>\n",
              "      <td>0.018</td>\n",
              "      <td>90</td>\n",
              "    </tr>\n",
              "  </tbody>\n",
              "</table>\n",
              "</div>"
            ],
            "text/plain": [
              "   (0, mean)   (0, std)  ...  hostgal_photoz_err  target\n",
              "0  -3.254554  83.944735  ...               0.000      92\n",
              "1  -2.720398   7.113509  ...               0.255      88\n",
              "2  -0.048080   1.828872  ...               0.016      42\n",
              "3   1.797523   4.374445  ...               1.152      90\n",
              "4   0.660948   2.360084  ...               0.018      90\n",
              "\n",
              "[5 rows x 77 columns]"
            ]
          },
          "metadata": {
            "tags": []
          },
          "execution_count": 77
        }
      ]
    },
    {
      "cell_type": "code",
      "metadata": {
        "id": "ypGByTjvaULZ",
        "colab_type": "code",
        "colab": {
          "base_uri": "https://localhost:8080/",
          "height": 36
        },
        "outputId": "72860a29-b5ab-44c5-9855-02baa6e48d71"
      },
      "source": [
        "allfeatures.shape"
      ],
      "execution_count": 86,
      "outputs": [
        {
          "output_type": "execute_result",
          "data": {
            "text/plain": [
              "(121, 77)"
            ]
          },
          "metadata": {
            "tags": []
          },
          "execution_count": 86
        }
      ]
    },
    {
      "cell_type": "code",
      "metadata": {
        "id": "c2jkNOpeaWBE",
        "colab_type": "code",
        "colab": {
          "base_uri": "https://localhost:8080/",
          "height": 36
        },
        "outputId": "0b21e4ae-2d0a-4293-e85a-6b1985f49c79"
      },
      "source": [
        "encoder_features.shape"
      ],
      "execution_count": 79,
      "outputs": [
        {
          "output_type": "execute_result",
          "data": {
            "text/plain": [
              "(726, 5)"
            ]
          },
          "metadata": {
            "tags": []
          },
          "execution_count": 79
        }
      ]
    },
    {
      "cell_type": "markdown",
      "metadata": {
        "id": "dDzT-LYodef4",
        "colab_type": "text"
      },
      "source": [
        "### To our total feature space we need to add five more features from autoencoder"
      ]
    },
    {
      "cell_type": "code",
      "metadata": {
        "id": "vPWSuh2KWAfg",
        "colab_type": "code",
        "outputId": "26ceb13b-230e-4412-f135-982ee8e6a2f5",
        "colab": {
          "base_uri": "https://localhost:8080/",
          "height": 36
        }
      },
      "source": [
        "print(\"My feature space is {} features (columns)\".\\\n",
        "      format(len(allfeatures.columns)))"
      ],
      "execution_count": 0,
      "outputs": [
        {
          "output_type": "stream",
          "text": [
            "My feature space is 83 features (columns)\n"
          ],
          "name": "stdout"
        }
      ]
    },
    {
      "cell_type": "code",
      "metadata": {
        "id": "hp995qsfWanM",
        "colab_type": "code",
        "outputId": "4ed409bd-50a8-41d3-8dcc-06ba3727fdb6",
        "colab": {
          "base_uri": "https://localhost:8080/",
          "height": 36
        }
      },
      "source": [
        "# check for NaNs and infinities\n",
        "print(\"there are {} NaN and {} infinity entries\".format(\n",
        " (allfeatures.isna().sum().sum()), np.prod(allfeatures.shape) - \n",
        " (np.isfinite(allfeatures).sum().sum())))"
      ],
      "execution_count": 0,
      "outputs": [
        {
          "output_type": "stream",
          "text": [
            "there are 0 NaN and 1 infinity entries\n"
          ],
          "name": "stdout"
        }
      ]
    },
    {
      "cell_type": "code",
      "metadata": {
        "id": "F528b4uDWjtF",
        "colab_type": "code",
        "outputId": "74e54874-638c-4c7f-b9f7-5a061124565c",
        "colab": {
          "base_uri": "https://localhost:8080/",
          "height": 36
        }
      },
      "source": [
        "## dropping the observation\n",
        "allfeatures.shape, allfeatures.replace([np.inf, -np.inf], np.nan).dropna().shape"
      ],
      "execution_count": 0,
      "outputs": [
        {
          "output_type": "execute_result",
          "data": {
            "text/plain": [
              "((7848, 83), (7847, 83))"
            ]
          },
          "metadata": {
            "tags": []
          },
          "execution_count": 39
        }
      ]
    },
    {
      "cell_type": "code",
      "metadata": {
        "id": "guwXag3zxV8p",
        "colab_type": "code",
        "outputId": "00417636-7c19-44d5-b879-9a75f0a0fa5b",
        "colab": {
          "base_uri": "https://localhost:8080/",
          "height": 36
        }
      },
      "source": [
        "## dropping the feature\n",
        "allfeatures.shape, allfeatures.replace([np.inf, -np.inf], np.nan).dropna(axis=1).shape"
      ],
      "execution_count": 0,
      "outputs": [
        {
          "output_type": "execute_result",
          "data": {
            "text/plain": [
              "((7848, 83), (7848, 82))"
            ]
          },
          "metadata": {
            "tags": []
          },
          "execution_count": 40
        }
      ]
    },
    {
      "cell_type": "code",
      "metadata": {
        "id": "9dO5dc-8xamZ",
        "colab_type": "code",
        "outputId": "348affc9-696c-4d60-e7d2-a769f04d9fdd",
        "colab": {
          "base_uri": "https://localhost:8080/",
          "height": 36
        }
      },
      "source": [
        "## filling with something else\n",
        "allfeatures.shape, allfeatures.replace([np.inf, -np.inf], np.nan).fillna(-99).shape"
      ],
      "execution_count": 0,
      "outputs": [
        {
          "output_type": "execute_result",
          "data": {
            "text/plain": [
              "((7848, 83), (7848, 83))"
            ]
          },
          "metadata": {
            "tags": []
          },
          "execution_count": 41
        }
      ]
    },
    {
      "cell_type": "code",
      "metadata": {
        "id": "YAQ2B0UNxq0u",
        "colab_type": "code",
        "colab": {}
      },
      "source": [
        "## choose to drop the feature \n",
        "allfeatures = allfeatures.replace([np.inf, -np.inf], np.nan).dropna(axis=1)"
      ],
      "execution_count": 0,
      "outputs": []
    },
    {
      "cell_type": "markdown",
      "metadata": {
        "id": "WFFLi-kT8426",
        "colab_type": "text"
      },
      "source": [
        "## TASK IIB.1: We will treat the 2 surveys separately: the general survey, and the deep drilling fields"
      ]
    },
    {
      "cell_type": "code",
      "metadata": {
        "id": "lKqS08Dl_TUv",
        "colab_type": "code",
        "outputId": "27585c68-4f1f-4133-f874-6d07672e678e",
        "colab": {
          "base_uri": "https://localhost:8080/",
          "height": 36
        }
      },
      "source": [
        "print(\"breakdown between surveys {} {}\".format(\n",
        "    (metadata.ddf_bool == 1).sum(), (metadata.ddf_bool == 0).sum()))"
      ],
      "execution_count": 0,
      "outputs": [
        {
          "output_type": "stream",
          "text": [
            "breakdown between surveys 2116 5732\n"
          ],
          "name": "stdout"
        }
      ]
    },
    {
      "cell_type": "code",
      "metadata": {
        "id": "lQuCLSvv_X5P",
        "colab_type": "code",
        "colab": {}
      },
      "source": [
        "X = allfeatures.iloc[:,:-1].values\n",
        "y = allfeatures.iloc[:,-1].values\n",
        "\n",
        "Xddf = X[allfeatures.ddf_bool==1]\n",
        "Xnormal = X[allfeatures.ddf_bool==0]\n",
        "yddf =  y[allfeatures.ddf_bool==1]\n",
        "ynormal =  y[allfeatures.ddf_bool==0]"
      ],
      "execution_count": 0,
      "outputs": []
    },
    {
      "cell_type": "code",
      "metadata": {
        "id": "RRgdy2eU_eCF",
        "colab_type": "code",
        "colab": {}
      },
      "source": [
        "import sklearn\n",
        "from sklearn.model_selection import train_test_split\n",
        "\n",
        "X_trainddf, X_testddf, y_trainddf, y_testddf = \\\n",
        "            train_test_split(Xddf, yddf, test_size=0.33, \n",
        "                             random_state=42, shuffle=True)\n",
        "\n",
        "X_trainnormal, X_testnormal, y_trainnormal, y_testnormal = \\\n",
        "            train_test_split(Xnormal, ynormal, test_size=0.33, \n",
        "                             random_state=42, shuffle=True)"
      ],
      "execution_count": 0,
      "outputs": []
    },
    {
      "cell_type": "markdown",
      "metadata": {
        "id": "dXhNw-hk_q2z",
        "colab_type": "text"
      },
      "source": [
        "## Part IIB.2: Classification with Random Forest"
      ]
    },
    {
      "cell_type": "code",
      "metadata": {
        "id": "4jfMpnms_ney",
        "colab_type": "code",
        "colab": {}
      },
      "source": [
        "from sklearn.ensemble import RandomForestClassifier\n",
        "clfddf = RandomForestClassifier(n_estimators=100, \n",
        "                criterion='gini', max_depth=5).fit(X_trainddf, y_trainddf)\n",
        "clfnormal = RandomForestClassifier(n_estimators=100, \n",
        "                criterion='gini', max_depth=5).fit(X_trainnormal, y_trainnormal)\n",
        "\n"
      ],
      "execution_count": 0,
      "outputs": []
    },
    {
      "cell_type": "code",
      "metadata": {
        "id": "qlfp8jfdADH0",
        "colab_type": "code",
        "outputId": "80cf1425-ac10-4d26-9a89-aa2b1b485a72",
        "colab": {
          "base_uri": "https://localhost:8080/",
          "height": 54
        }
      },
      "source": [
        "print(\"Random Forest Classification\\n\" + \n",
        "       \"score on DDF {:.2f} and on normal survey {:.2f}\".format(\n",
        "           clfddf.score(X_testddf, y_testddf),\n",
        "           clfnormal.score(X_testnormal, y_testnormal)))"
      ],
      "execution_count": 0,
      "outputs": [
        {
          "output_type": "stream",
          "text": [
            "Random Forest Classification\n",
            "score on DDF 0.74 and on normal survey 0.61\n"
          ],
          "name": "stdout"
        }
      ]
    },
    {
      "cell_type": "markdown",
      "metadata": {
        "id": "IJNZ5hNaoE7Z",
        "colab_type": "text"
      },
      "source": [
        "This is the value on quality of the split using the classifier"
      ]
    }
  ]
}